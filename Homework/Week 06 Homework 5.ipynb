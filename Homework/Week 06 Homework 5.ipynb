{
 "cells": [
  {
   "cell_type": "markdown",
   "metadata": {},
   "source": [
    "# Week 6 Homework 5 (Due on Monday, March 9 at 11:59PM)\n",
    "\n",
    "Apply multilinear regression model on the advertising data used in the previous notebook. Train the model in two ways:\n",
    "\n",
    "\n",
    "1. Use `LinearRegression` class from `sklearn.linear_model`.\n",
    "\n",
    "2. Use the normal equation.\n",
    "\n",
    "\n",
    "Split the data into 80% training data and 20% test data. Show the paramter values and the MSEs on the training set and the test set (Hint: use either the formula given in class today or use `mean_squared_error` function from `sklearn.metrics`)"
   ]
  },
  {
   "cell_type": "code",
   "execution_count": 135,
   "metadata": {},
   "outputs": [],
   "source": [
    "import numpy as np\n",
    "import pandas as pd\n",
    "import matplotlib.pyplot as plt\n",
    "%matplotlib inline\n",
    "\n",
    "# Data visualization\n",
    "import seaborn as sns\n",
    "\n",
    "# Ignore Warnings\n",
    "import warnings\n",
    "warnings.filterwarnings('ignore')"
   ]
  },
  {
   "cell_type": "code",
   "execution_count": 136,
   "metadata": {},
   "outputs": [
    {
     "data": {
      "text/html": [
       "<div>\n",
       "<style scoped>\n",
       "    .dataframe tbody tr th:only-of-type {\n",
       "        vertical-align: middle;\n",
       "    }\n",
       "\n",
       "    .dataframe tbody tr th {\n",
       "        vertical-align: top;\n",
       "    }\n",
       "\n",
       "    .dataframe thead th {\n",
       "        text-align: right;\n",
       "    }\n",
       "</style>\n",
       "<table border=\"1\" class=\"dataframe\">\n",
       "  <thead>\n",
       "    <tr style=\"text-align: right;\">\n",
       "      <th></th>\n",
       "      <th>TV</th>\n",
       "      <th>radio</th>\n",
       "      <th>newspaper</th>\n",
       "      <th>sales</th>\n",
       "    </tr>\n",
       "  </thead>\n",
       "  <tbody>\n",
       "    <tr>\n",
       "      <th>1</th>\n",
       "      <td>230.1</td>\n",
       "      <td>37.8</td>\n",
       "      <td>69.2</td>\n",
       "      <td>22.1</td>\n",
       "    </tr>\n",
       "    <tr>\n",
       "      <th>2</th>\n",
       "      <td>44.5</td>\n",
       "      <td>39.3</td>\n",
       "      <td>45.1</td>\n",
       "      <td>10.4</td>\n",
       "    </tr>\n",
       "    <tr>\n",
       "      <th>3</th>\n",
       "      <td>17.2</td>\n",
       "      <td>45.9</td>\n",
       "      <td>69.3</td>\n",
       "      <td>9.3</td>\n",
       "    </tr>\n",
       "    <tr>\n",
       "      <th>4</th>\n",
       "      <td>151.5</td>\n",
       "      <td>41.3</td>\n",
       "      <td>58.5</td>\n",
       "      <td>18.5</td>\n",
       "    </tr>\n",
       "    <tr>\n",
       "      <th>5</th>\n",
       "      <td>180.8</td>\n",
       "      <td>10.8</td>\n",
       "      <td>58.4</td>\n",
       "      <td>12.9</td>\n",
       "    </tr>\n",
       "  </tbody>\n",
       "</table>\n",
       "</div>"
      ],
      "text/plain": [
       "      TV  radio  newspaper  sales\n",
       "1  230.1   37.8       69.2   22.1\n",
       "2   44.5   39.3       45.1   10.4\n",
       "3   17.2   45.9       69.3    9.3\n",
       "4  151.5   41.3       58.5   18.5\n",
       "5  180.8   10.8       58.4   12.9"
      ]
     },
     "execution_count": 136,
     "metadata": {},
     "output_type": "execute_result"
    }
   ],
   "source": [
    "url = \"http://faculty.marshall.usc.edu/gareth-james/ISL/Advertising.csv\"\n",
    "advertising = pd.read_csv(url, index_col=0)\n",
    "advertising.head()"
   ]
  },
  {
   "cell_type": "code",
   "execution_count": 137,
   "metadata": {},
   "outputs": [
    {
     "name": "stdout",
     "output_type": "stream",
     "text": [
      "<class 'pandas.core.frame.DataFrame'>\n",
      "Int64Index: 200 entries, 1 to 200\n",
      "Data columns (total 4 columns):\n",
      "TV           200 non-null float64\n",
      "radio        200 non-null float64\n",
      "newspaper    200 non-null float64\n",
      "sales        200 non-null float64\n",
      "dtypes: float64(4)\n",
      "memory usage: 7.8 KB\n"
     ]
    }
   ],
   "source": [
    "advertising.info()"
   ]
  },
  {
   "cell_type": "code",
   "execution_count": 138,
   "metadata": {},
   "outputs": [
    {
     "data": {
      "text/html": [
       "<div>\n",
       "<style scoped>\n",
       "    .dataframe tbody tr th:only-of-type {\n",
       "        vertical-align: middle;\n",
       "    }\n",
       "\n",
       "    .dataframe tbody tr th {\n",
       "        vertical-align: top;\n",
       "    }\n",
       "\n",
       "    .dataframe thead th {\n",
       "        text-align: right;\n",
       "    }\n",
       "</style>\n",
       "<table border=\"1\" class=\"dataframe\">\n",
       "  <thead>\n",
       "    <tr style=\"text-align: right;\">\n",
       "      <th></th>\n",
       "      <th>TV</th>\n",
       "      <th>radio</th>\n",
       "      <th>newspaper</th>\n",
       "      <th>sales</th>\n",
       "    </tr>\n",
       "  </thead>\n",
       "  <tbody>\n",
       "    <tr>\n",
       "      <th>count</th>\n",
       "      <td>200.000000</td>\n",
       "      <td>200.000000</td>\n",
       "      <td>200.000000</td>\n",
       "      <td>200.000000</td>\n",
       "    </tr>\n",
       "    <tr>\n",
       "      <th>mean</th>\n",
       "      <td>147.042500</td>\n",
       "      <td>23.264000</td>\n",
       "      <td>30.554000</td>\n",
       "      <td>14.022500</td>\n",
       "    </tr>\n",
       "    <tr>\n",
       "      <th>std</th>\n",
       "      <td>85.854236</td>\n",
       "      <td>14.846809</td>\n",
       "      <td>21.778621</td>\n",
       "      <td>5.217457</td>\n",
       "    </tr>\n",
       "    <tr>\n",
       "      <th>min</th>\n",
       "      <td>0.700000</td>\n",
       "      <td>0.000000</td>\n",
       "      <td>0.300000</td>\n",
       "      <td>1.600000</td>\n",
       "    </tr>\n",
       "    <tr>\n",
       "      <th>25%</th>\n",
       "      <td>74.375000</td>\n",
       "      <td>9.975000</td>\n",
       "      <td>12.750000</td>\n",
       "      <td>10.375000</td>\n",
       "    </tr>\n",
       "    <tr>\n",
       "      <th>50%</th>\n",
       "      <td>149.750000</td>\n",
       "      <td>22.900000</td>\n",
       "      <td>25.750000</td>\n",
       "      <td>12.900000</td>\n",
       "    </tr>\n",
       "    <tr>\n",
       "      <th>75%</th>\n",
       "      <td>218.825000</td>\n",
       "      <td>36.525000</td>\n",
       "      <td>45.100000</td>\n",
       "      <td>17.400000</td>\n",
       "    </tr>\n",
       "    <tr>\n",
       "      <th>max</th>\n",
       "      <td>296.400000</td>\n",
       "      <td>49.600000</td>\n",
       "      <td>114.000000</td>\n",
       "      <td>27.000000</td>\n",
       "    </tr>\n",
       "  </tbody>\n",
       "</table>\n",
       "</div>"
      ],
      "text/plain": [
       "               TV       radio   newspaper       sales\n",
       "count  200.000000  200.000000  200.000000  200.000000\n",
       "mean   147.042500   23.264000   30.554000   14.022500\n",
       "std     85.854236   14.846809   21.778621    5.217457\n",
       "min      0.700000    0.000000    0.300000    1.600000\n",
       "25%     74.375000    9.975000   12.750000   10.375000\n",
       "50%    149.750000   22.900000   25.750000   12.900000\n",
       "75%    218.825000   36.525000   45.100000   17.400000\n",
       "max    296.400000   49.600000  114.000000   27.000000"
      ]
     },
     "execution_count": 138,
     "metadata": {},
     "output_type": "execute_result"
    }
   ],
   "source": [
    "advertising.describe()"
   ]
  },
  {
   "cell_type": "markdown",
   "metadata": {},
   "source": [
    "**Correlation Coefficient**"
   ]
  },
  {
   "cell_type": "code",
   "execution_count": 139,
   "metadata": {},
   "outputs": [
    {
     "data": {
      "text/html": [
       "<div>\n",
       "<style scoped>\n",
       "    .dataframe tbody tr th:only-of-type {\n",
       "        vertical-align: middle;\n",
       "    }\n",
       "\n",
       "    .dataframe tbody tr th {\n",
       "        vertical-align: top;\n",
       "    }\n",
       "\n",
       "    .dataframe thead th {\n",
       "        text-align: right;\n",
       "    }\n",
       "</style>\n",
       "<table border=\"1\" class=\"dataframe\">\n",
       "  <thead>\n",
       "    <tr style=\"text-align: right;\">\n",
       "      <th></th>\n",
       "      <th>TV</th>\n",
       "      <th>radio</th>\n",
       "      <th>newspaper</th>\n",
       "      <th>sales</th>\n",
       "    </tr>\n",
       "  </thead>\n",
       "  <tbody>\n",
       "    <tr>\n",
       "      <th>1</th>\n",
       "      <td>230.1</td>\n",
       "      <td>37.8</td>\n",
       "      <td>69.2</td>\n",
       "      <td>22.1</td>\n",
       "    </tr>\n",
       "    <tr>\n",
       "      <th>2</th>\n",
       "      <td>44.5</td>\n",
       "      <td>39.3</td>\n",
       "      <td>45.1</td>\n",
       "      <td>10.4</td>\n",
       "    </tr>\n",
       "    <tr>\n",
       "      <th>3</th>\n",
       "      <td>17.2</td>\n",
       "      <td>45.9</td>\n",
       "      <td>69.3</td>\n",
       "      <td>9.3</td>\n",
       "    </tr>\n",
       "    <tr>\n",
       "      <th>4</th>\n",
       "      <td>151.5</td>\n",
       "      <td>41.3</td>\n",
       "      <td>58.5</td>\n",
       "      <td>18.5</td>\n",
       "    </tr>\n",
       "    <tr>\n",
       "      <th>5</th>\n",
       "      <td>180.8</td>\n",
       "      <td>10.8</td>\n",
       "      <td>58.4</td>\n",
       "      <td>12.9</td>\n",
       "    </tr>\n",
       "  </tbody>\n",
       "</table>\n",
       "</div>"
      ],
      "text/plain": [
       "      TV  radio  newspaper  sales\n",
       "1  230.1   37.8       69.2   22.1\n",
       "2   44.5   39.3       45.1   10.4\n",
       "3   17.2   45.9       69.3    9.3\n",
       "4  151.5   41.3       58.5   18.5\n",
       "5  180.8   10.8       58.4   12.9"
      ]
     },
     "execution_count": 139,
     "metadata": {},
     "output_type": "execute_result"
    }
   ],
   "source": [
    "data = advertising[['TV', 'radio', 'newspaper', 'sales']]\n",
    "data.head()"
   ]
  },
  {
   "cell_type": "code",
   "execution_count": 140,
   "metadata": {},
   "outputs": [
    {
     "name": "stdout",
     "output_type": "stream",
     "text": [
      "0.7822244248616061\n",
      "0.5762225745710551\n",
      "0.22829902637616528\n"
     ]
    }
   ],
   "source": [
    "# Correlation coefficient between TV and sales \n",
    "print(np.corrcoef(data['TV'], data['sales'])[0, 1])\n",
    "\n",
    "# Correlation coefficient between radio and sales\n",
    "print(np.corrcoef(data['radio'], data['sales'])[0, 1])\n",
    "\n",
    "# Correlation coefficient between newspaper and sales\n",
    "print(np.corrcoef(data['newspaper'], data['sales'])[0, 1])"
   ]
  },
  {
   "cell_type": "code",
   "execution_count": 169,
   "metadata": {
    "scrolled": false
   },
   "outputs": [
    {
     "data": {
      "text/plain": [
       "<matplotlib.axes._subplots.AxesSubplot at 0x1c20cdcef0>"
      ]
     },
     "execution_count": 169,
     "metadata": {},
     "output_type": "execute_result"
    },
    {
     "data": {
      "image/png": "[encoded data removed]",
      "text/plain": [
       "<Figure size 1152x576 with 3 Axes>"
      ]
     },
     "metadata": {
      "needs_background": "light"
     },
     "output_type": "display_data"
    }
   ],
   "source": [
    "fig,axs= plt.subplots(1,3,sharey=True) # sharey = shares same y axis across the plot for each x axis\n",
    "data.plot(kind=\"scatter\",x='TV',y='sales',ax=axs[0],figsize=(16,8))\n",
    "data.plot(kind=\"scatter\",x='radio',y='sales',ax=axs[1],figsize=(16,8))\n",
    "data.plot(kind=\"scatter\",x='newspaper',y='sales',ax=axs[2],figsize=(16,8))"
   ]
  },
  {
   "cell_type": "code",
   "execution_count": 141,
   "metadata": {},
   "outputs": [
    {
     "data": {
      "text/plain": [
       "<matplotlib.axes._subplots.AxesSubplot at 0x1c217439e8>"
      ]
     },
     "execution_count": 141,
     "metadata": {},
     "output_type": "execute_result"
    },
    {
     "data": {
      "image/png": "[encoded data removed]",
      "text/plain": [
       "<Figure size 432x288 with 2 Axes>"
      ]
     },
     "metadata": {
      "needs_background": "light"
     },
     "output_type": "display_data"
    }
   ],
   "source": [
    "# Correlation between different variables\n",
    "sns.heatmap(advertising.corr(), cmap=\"Pastel2\", annot = True)"
   ]
  },
  {
   "cell_type": "markdown",
   "metadata": {},
   "source": [
    "### **Multilinear Regression: Normal equation**"
   ]
  },
  {
   "cell_type": "code",
   "execution_count": 142,
   "metadata": {},
   "outputs": [
    {
     "name": "stdout",
     "output_type": "stream",
     "text": [
      "[[  1.  230.1  37.8  69.2]\n",
      " [  1.   44.5  39.3  45.1]\n",
      " [  1.   17.2  45.9  69.3]\n",
      " [  1.  151.5  41.3  58.5]\n",
      " [  1.  180.8  10.8  58.4]\n",
      " [  1.    8.7  48.9  75. ]\n",
      " [  1.   57.5  32.8  23.5]\n",
      " [  1.  120.2  19.6  11.6]\n",
      " [  1.    8.6   2.1   1. ]\n",
      " [  1.  199.8   2.6  21.2]\n",
      " [  1.   66.1   5.8  24.2]\n",
      " [  1.  214.7  24.    4. ]\n",
      " [  1.   23.8  35.1  65.9]\n",
      " [  1.   97.5   7.6   7.2]\n",
      " [  1.  204.1  32.9  46. ]\n",
      " [  1.  195.4  47.7  52.9]\n",
      " [  1.   67.8  36.6 114. ]\n",
      " [  1.  281.4  39.6  55.8]\n",
      " [  1.   69.2  20.5  18.3]\n",
      " [  1.  147.3  23.9  19.1]\n",
      " [  1.  218.4  27.7  53.4]\n",
      " [  1.  237.4   5.1  23.5]\n",
      " [  1.   13.2  15.9  49.6]\n",
      " [  1.  228.3  16.9  26.2]\n",
      " [  1.   62.3  12.6  18.3]\n",
      " [  1.  262.9   3.5  19.5]\n",
      " [  1.  142.9  29.3  12.6]\n",
      " [  1.  240.1  16.7  22.9]\n",
      " [  1.  248.8  27.1  22.9]\n",
      " [  1.   70.6  16.   40.8]\n",
      " [  1.  292.9  28.3  43.2]\n",
      " [  1.  112.9  17.4  38.6]\n",
      " [  1.   97.2   1.5  30. ]\n",
      " [  1.  265.6  20.    0.3]\n",
      " [  1.   95.7   1.4   7.4]\n",
      " [  1.  290.7   4.1   8.5]\n",
      " [  1.  266.9  43.8   5. ]\n",
      " [  1.   74.7  49.4  45.7]\n",
      " [  1.   43.1  26.7  35.1]\n",
      " [  1.  228.   37.7  32. ]\n",
      " [  1.  202.5  22.3  31.6]\n",
      " [  1.  177.   33.4  38.7]\n",
      " [  1.  293.6  27.7   1.8]\n",
      " [  1.  206.9   8.4  26.4]\n",
      " [  1.   25.1  25.7  43.3]\n",
      " [  1.  175.1  22.5  31.5]\n",
      " [  1.   89.7   9.9  35.7]\n",
      " [  1.  239.9  41.5  18.5]\n",
      " [  1.  227.2  15.8  49.9]\n",
      " [  1.   66.9  11.7  36.8]\n",
      " [  1.  199.8   3.1  34.6]\n",
      " [  1.  100.4   9.6   3.6]\n",
      " [  1.  216.4  41.7  39.6]\n",
      " [  1.  182.6  46.2  58.7]\n",
      " [  1.  262.7  28.8  15.9]\n",
      " [  1.  198.9  49.4  60. ]\n",
      " [  1.    7.3  28.1  41.4]\n",
      " [  1.  136.2  19.2  16.6]\n",
      " [  1.  210.8  49.6  37.7]\n",
      " [  1.  210.7  29.5   9.3]\n",
      " [  1.   53.5   2.   21.4]\n",
      " [  1.  261.3  42.7  54.7]\n",
      " [  1.  239.3  15.5  27.3]\n",
      " [  1.  102.7  29.6   8.4]\n",
      " [  1.  131.1  42.8  28.9]\n",
      " [  1.   69.    9.3   0.9]\n",
      " [  1.   31.5  24.6   2.2]\n",
      " [  1.  139.3  14.5  10.2]\n",
      " [  1.  237.4  27.5  11. ]\n",
      " [  1.  216.8  43.9  27.2]\n",
      " [  1.  199.1  30.6  38.7]\n",
      " [  1.  109.8  14.3  31.7]\n",
      " [  1.   26.8  33.   19.3]\n",
      " [  1.  129.4   5.7  31.3]\n",
      " [  1.  213.4  24.6  13.1]\n",
      " [  1.   16.9  43.7  89.4]\n",
      " [  1.   27.5   1.6  20.7]\n",
      " [  1.  120.5  28.5  14.2]\n",
      " [  1.    5.4  29.9   9.4]\n",
      " [  1.  116.    7.7  23.1]\n",
      " [  1.   76.4  26.7  22.3]\n",
      " [  1.  239.8   4.1  36.9]\n",
      " [  1.   75.3  20.3  32.5]\n",
      " [  1.   68.4  44.5  35.6]\n",
      " [  1.  213.5  43.   33.8]\n",
      " [  1.  193.2  18.4  65.7]\n",
      " [  1.   76.3  27.5  16. ]\n",
      " [  1.  110.7  40.6  63.2]\n",
      " [  1.   88.3  25.5  73.4]\n",
      " [  1.  109.8  47.8  51.4]\n",
      " [  1.  134.3   4.9   9.3]\n",
      " [  1.   28.6   1.5  33. ]\n",
      " [  1.  217.7  33.5  59. ]\n",
      " [  1.  250.9  36.5  72.3]\n",
      " [  1.  107.4  14.   10.9]\n",
      " [  1.  163.3  31.6  52.9]\n",
      " [  1.  197.6   3.5   5.9]\n",
      " [  1.  184.9  21.   22. ]\n",
      " [  1.  289.7  42.3  51.2]\n",
      " [  1.  135.2  41.7  45.9]\n",
      " [  1.  222.4   4.3  49.8]\n",
      " [  1.  296.4  36.3 100.9]\n",
      " [  1.  280.2  10.1  21.4]\n",
      " [  1.  187.9  17.2  17.9]\n",
      " [  1.  238.2  34.3   5.3]\n",
      " [  1.  137.9  46.4  59. ]\n",
      " [  1.   25.   11.   29.7]\n",
      " [  1.   90.4   0.3  23.2]\n",
      " [  1.   13.1   0.4  25.6]\n",
      " [  1.  255.4  26.9   5.5]\n",
      " [  1.  225.8   8.2  56.5]\n",
      " [  1.  241.7  38.   23.2]\n",
      " [  1.  175.7  15.4   2.4]\n",
      " [  1.  209.6  20.6  10.7]\n",
      " [  1.   78.2  46.8  34.5]\n",
      " [  1.   75.1  35.   52.7]\n",
      " [  1.  139.2  14.3  25.6]\n",
      " [  1.   76.4   0.8  14.8]\n",
      " [  1.  125.7  36.9  79.2]\n",
      " [  1.   19.4  16.   22.3]\n",
      " [  1.  141.3  26.8  46.2]\n",
      " [  1.   18.8  21.7  50.4]\n",
      " [  1.  224.    2.4  15.6]\n",
      " [  1.  123.1  34.6  12.4]\n",
      " [  1.  229.5  32.3  74.2]\n",
      " [  1.   87.2  11.8  25.9]\n",
      " [  1.    7.8  38.9  50.6]\n",
      " [  1.   80.2   0.    9.2]\n",
      " [  1.  220.3  49.    3.2]\n",
      " [  1.   59.6  12.   43.1]\n",
      " [  1.    0.7  39.6   8.7]\n",
      " [  1.  265.2   2.9  43. ]\n",
      " [  1.    8.4  27.2   2.1]\n",
      " [  1.  219.8  33.5  45.1]\n",
      " [  1.   36.9  38.6  65.6]\n",
      " [  1.   48.3  47.    8.5]\n",
      " [  1.   25.6  39.    9.3]\n",
      " [  1.  273.7  28.9  59.7]\n",
      " [  1.   43.   25.9  20.5]\n",
      " [  1.  184.9  43.9   1.7]\n",
      " [  1.   73.4  17.   12.9]\n",
      " [  1.  193.7  35.4  75.6]\n",
      " [  1.  220.5  33.2  37.9]\n",
      " [  1.  104.6   5.7  34.4]\n",
      " [  1.   96.2  14.8  38.9]\n",
      " [  1.  140.3   1.9   9. ]\n",
      " [  1.  240.1   7.3   8.7]\n",
      " [  1.  243.2  49.   44.3]\n",
      " [  1.   38.   40.3  11.9]\n",
      " [  1.   44.7  25.8  20.6]\n",
      " [  1.  280.7  13.9  37. ]\n",
      " [  1.  121.    8.4  48.7]\n",
      " [  1.  197.6  23.3  14.2]\n",
      " [  1.  171.3  39.7  37.7]\n",
      " [  1.  187.8  21.1   9.5]\n",
      " [  1.    4.1  11.6   5.7]\n",
      " [  1.   93.9  43.5  50.5]\n",
      " [  1.  149.8   1.3  24.3]\n",
      " [  1.   11.7  36.9  45.2]\n",
      " [  1.  131.7  18.4  34.6]\n",
      " [  1.  172.5  18.1  30.7]\n",
      " [  1.   85.7  35.8  49.3]\n",
      " [  1.  188.4  18.1  25.6]\n",
      " [  1.  163.5  36.8   7.4]\n",
      " [  1.  117.2  14.7   5.4]\n",
      " [  1.  234.5   3.4  84.8]\n",
      " [  1.   17.9  37.6  21.6]\n",
      " [  1.  206.8   5.2  19.4]\n",
      " [  1.  215.4  23.6  57.6]\n",
      " [  1.  284.3  10.6   6.4]\n",
      " [  1.   50.   11.6  18.4]\n",
      " [  1.  164.5  20.9  47.4]\n",
      " [  1.   19.6  20.1  17. ]\n",
      " [  1.  168.4   7.1  12.8]\n",
      " [  1.  222.4   3.4  13.1]\n",
      " [  1.  276.9  48.9  41.8]\n",
      " [  1.  248.4  30.2  20.3]\n",
      " [  1.  170.2   7.8  35.2]\n",
      " [  1.  276.7   2.3  23.7]\n",
      " [  1.  165.6  10.   17.6]\n",
      " [  1.  156.6   2.6   8.3]\n",
      " [  1.  218.5   5.4  27.4]\n",
      " [  1.   56.2   5.7  29.7]\n",
      " [  1.  287.6  43.   71.8]\n",
      " [  1.  253.8  21.3  30. ]\n",
      " [  1.  205.   45.1  19.6]\n",
      " [  1.  139.5   2.1  26.6]\n",
      " [  1.  191.1  28.7  18.2]\n",
      " [  1.  286.   13.9   3.7]\n",
      " [  1.   18.7  12.1  23.4]\n",
      " [  1.   39.5  41.1   5.8]\n",
      " [  1.   75.5  10.8   6. ]\n",
      " [  1.   17.2   4.1  31.6]\n",
      " [  1.  166.8  42.    3.6]\n",
      " [  1.  149.7  35.6   6. ]\n",
      " [  1.   38.2   3.7  13.8]\n",
      " [  1.   94.2   4.9   8.1]\n",
      " [  1.  177.    9.3   6.4]\n",
      " [  1.  283.6  42.   66.2]\n",
      " [  1.  232.1   8.6   8.7]]\n"
     ]
    }
   ],
   "source": [
    "# Construct matrix X using np.hstack(), np.ones()\n",
    "X = np.hstack([np.ones([m, 1]), data[['TV', 'radio', 'newspaper']].values])\n",
    "print(X)"
   ]
  },
  {
   "cell_type": "code",
   "execution_count": 143,
   "metadata": {},
   "outputs": [
    {
     "name": "stdout",
     "output_type": "stream",
     "text": [
      "[[22.1]\n",
      " [10.4]\n",
      " [ 9.3]\n",
      " [18.5]\n",
      " [12.9]\n",
      " [ 7.2]\n",
      " [11.8]\n",
      " [13.2]\n",
      " [ 4.8]\n",
      " [10.6]\n",
      " [ 8.6]\n",
      " [17.4]\n",
      " [ 9.2]\n",
      " [ 9.7]\n",
      " [19. ]\n",
      " [22.4]\n",
      " [12.5]\n",
      " [24.4]\n",
      " [11.3]\n",
      " [14.6]\n",
      " [18. ]\n",
      " [12.5]\n",
      " [ 5.6]\n",
      " [15.5]\n",
      " [ 9.7]\n",
      " [12. ]\n",
      " [15. ]\n",
      " [15.9]\n",
      " [18.9]\n",
      " [10.5]\n",
      " [21.4]\n",
      " [11.9]\n",
      " [ 9.6]\n",
      " [17.4]\n",
      " [ 9.5]\n",
      " [12.8]\n",
      " [25.4]\n",
      " [14.7]\n",
      " [10.1]\n",
      " [21.5]\n",
      " [16.6]\n",
      " [17.1]\n",
      " [20.7]\n",
      " [12.9]\n",
      " [ 8.5]\n",
      " [14.9]\n",
      " [10.6]\n",
      " [23.2]\n",
      " [14.8]\n",
      " [ 9.7]\n",
      " [11.4]\n",
      " [10.7]\n",
      " [22.6]\n",
      " [21.2]\n",
      " [20.2]\n",
      " [23.7]\n",
      " [ 5.5]\n",
      " [13.2]\n",
      " [23.8]\n",
      " [18.4]\n",
      " [ 8.1]\n",
      " [24.2]\n",
      " [15.7]\n",
      " [14. ]\n",
      " [18. ]\n",
      " [ 9.3]\n",
      " [ 9.5]\n",
      " [13.4]\n",
      " [18.9]\n",
      " [22.3]\n",
      " [18.3]\n",
      " [12.4]\n",
      " [ 8.8]\n",
      " [11. ]\n",
      " [17. ]\n",
      " [ 8.7]\n",
      " [ 6.9]\n",
      " [14.2]\n",
      " [ 5.3]\n",
      " [11. ]\n",
      " [11.8]\n",
      " [12.3]\n",
      " [11.3]\n",
      " [13.6]\n",
      " [21.7]\n",
      " [15.2]\n",
      " [12. ]\n",
      " [16. ]\n",
      " [12.9]\n",
      " [16.7]\n",
      " [11.2]\n",
      " [ 7.3]\n",
      " [19.4]\n",
      " [22.2]\n",
      " [11.5]\n",
      " [16.9]\n",
      " [11.7]\n",
      " [15.5]\n",
      " [25.4]\n",
      " [17.2]\n",
      " [11.7]\n",
      " [23.8]\n",
      " [14.8]\n",
      " [14.7]\n",
      " [20.7]\n",
      " [19.2]\n",
      " [ 7.2]\n",
      " [ 8.7]\n",
      " [ 5.3]\n",
      " [19.8]\n",
      " [13.4]\n",
      " [21.8]\n",
      " [14.1]\n",
      " [15.9]\n",
      " [14.6]\n",
      " [12.6]\n",
      " [12.2]\n",
      " [ 9.4]\n",
      " [15.9]\n",
      " [ 6.6]\n",
      " [15.5]\n",
      " [ 7. ]\n",
      " [11.6]\n",
      " [15.2]\n",
      " [19.7]\n",
      " [10.6]\n",
      " [ 6.6]\n",
      " [ 8.8]\n",
      " [24.7]\n",
      " [ 9.7]\n",
      " [ 1.6]\n",
      " [12.7]\n",
      " [ 5.7]\n",
      " [19.6]\n",
      " [10.8]\n",
      " [11.6]\n",
      " [ 9.5]\n",
      " [20.8]\n",
      " [ 9.6]\n",
      " [20.7]\n",
      " [10.9]\n",
      " [19.2]\n",
      " [20.1]\n",
      " [10.4]\n",
      " [11.4]\n",
      " [10.3]\n",
      " [13.2]\n",
      " [25.4]\n",
      " [10.9]\n",
      " [10.1]\n",
      " [16.1]\n",
      " [11.6]\n",
      " [16.6]\n",
      " [19. ]\n",
      " [15.6]\n",
      " [ 3.2]\n",
      " [15.3]\n",
      " [10.1]\n",
      " [ 7.3]\n",
      " [12.9]\n",
      " [14.4]\n",
      " [13.3]\n",
      " [14.9]\n",
      " [18. ]\n",
      " [11.9]\n",
      " [11.9]\n",
      " [ 8. ]\n",
      " [12.2]\n",
      " [17.1]\n",
      " [15. ]\n",
      " [ 8.4]\n",
      " [14.5]\n",
      " [ 7.6]\n",
      " [11.7]\n",
      " [11.5]\n",
      " [27. ]\n",
      " [20.2]\n",
      " [11.7]\n",
      " [11.8]\n",
      " [12.6]\n",
      " [10.5]\n",
      " [12.2]\n",
      " [ 8.7]\n",
      " [26.2]\n",
      " [17.6]\n",
      " [22.6]\n",
      " [10.3]\n",
      " [17.3]\n",
      " [15.9]\n",
      " [ 6.7]\n",
      " [10.8]\n",
      " [ 9.9]\n",
      " [ 5.9]\n",
      " [19.6]\n",
      " [17.3]\n",
      " [ 7.6]\n",
      " [ 9.7]\n",
      " [12.8]\n",
      " [25.5]\n",
      " [13.4]]\n"
     ]
    }
   ],
   "source": [
    "# Construct vector y\n",
    "y = data[['sales']].values\n",
    "print(y)"
   ]
  },
  {
   "cell_type": "code",
   "execution_count": 144,
   "metadata": {},
   "outputs": [
    {
     "name": "stdout",
     "output_type": "stream",
     "text": [
      "[[ 2.93888937e+00]\n",
      " [ 4.57646455e-02]\n",
      " [ 1.88530017e-01]\n",
      " [-1.03749304e-03]]\n"
     ]
    }
   ],
   "source": [
    "# Apply the normal equation to find theta\n",
    "num = X.T.dot(X)\n",
    "theta = np.linalg.inv(num).dot(X.T.dot(y))\n",
    "print(theta)"
   ]
  },
  {
   "cell_type": "markdown",
   "metadata": {},
   "source": [
    "#### MSE"
   ]
  },
  {
   "cell_type": "code",
   "execution_count": 147,
   "metadata": {},
   "outputs": [],
   "source": [
    "def get_squared_error(data, name, theta):\n",
    "    # Extract x and y from data\n",
    "    x = data.loc[name, ['TV', 'radio', 'newspaper']].values\n",
    "    y = data.loc[name, ['sales']].values\n",
    "    # Calculate prediction\n",
    "    prediction = theta[0] + theta[1]*x[0] + theta[2]*x[1]\n",
    "    # Calculate the squared error\n",
    "    squared_error = (prediction - y)**2\n",
    "    return squared_error"
   ]
  },
  {
   "cell_type": "code",
   "execution_count": 148,
   "metadata": {},
   "outputs": [
    {
     "name": "stdout",
     "output_type": "stream",
     "text": [
      "MSE: 2.785639165659185\n",
      "RMSE: 1.6690234167498024\n"
     ]
    }
   ],
   "source": [
    "# Calculate the average.\n",
    "all_errors = [get_squared_error(data, name, theta) for name in data.index]\n",
    "mse = np.mean(all_errors) # mean squared error\n",
    "rmse = np.sqrt(mse) # root mean squared error\n",
    "print(\"MSE:\", mse)\n",
    "print(\"RMSE:\", rmse)"
   ]
  },
  {
   "cell_type": "markdown",
   "metadata": {},
   "source": [
    "### **LinearRegression class from sklearn.linear_model**"
   ]
  },
  {
   "cell_type": "code",
   "execution_count": 149,
   "metadata": {},
   "outputs": [
    {
     "data": {
      "text/plain": [
       "LinearRegression(copy_X=True, fit_intercept=True, n_jobs=None, normalize=False)"
      ]
     },
     "execution_count": 149,
     "metadata": {},
     "output_type": "execute_result"
    }
   ],
   "source": [
    "# Build a linear regression model using LinearRegression from sklearn.linear_model\n",
    "from sklearn.linear_model import LinearRegression\n",
    "lr = LinearRegression()\n",
    "lr.fit(data[['TV', 'radio', 'newspaper']], data['sales'])"
   ]
  },
  {
   "cell_type": "code",
   "execution_count": 151,
   "metadata": {},
   "outputs": [
    {
     "name": "stdout",
     "output_type": "stream",
     "text": [
      "[ 0.04576465  0.18853002 -0.00103749]\n",
      "2.9388893694594085\n"
     ]
    }
   ],
   "source": [
    "# The coef_ and intercept_ attributes contain parameter values\n",
    "print(lr.coef_)\n",
    "print(lr.intercept_)"
   ]
  },
  {
   "cell_type": "markdown",
   "metadata": {},
   "source": [
    "### Train-Test-Split"
   ]
  },
  {
   "cell_type": "code",
   "execution_count": 152,
   "metadata": {},
   "outputs": [],
   "source": [
    "feature_cols = ['TV', 'radio', 'newspaper']\n",
    "X = data[feature_cols]\n",
    "y = data['sales']"
   ]
  },
  {
   "cell_type": "code",
   "execution_count": 153,
   "metadata": {},
   "outputs": [],
   "source": [
    "from sklearn.model_selection import train_test_split\n",
    "X_train, X_test, y_train, y_test = train_test_split(X, y, train_size = 0.8, test_size = 0.2, random_state = 100)"
   ]
  },
  {
   "cell_type": "code",
   "execution_count": 154,
   "metadata": {},
   "outputs": [
    {
     "data": {
      "text/html": [
       "<div>\n",
       "<style scoped>\n",
       "    .dataframe tbody tr th:only-of-type {\n",
       "        vertical-align: middle;\n",
       "    }\n",
       "\n",
       "    .dataframe tbody tr th {\n",
       "        vertical-align: top;\n",
       "    }\n",
       "\n",
       "    .dataframe thead th {\n",
       "        text-align: right;\n",
       "    }\n",
       "</style>\n",
       "<table border=\"1\" class=\"dataframe\">\n",
       "  <thead>\n",
       "    <tr style=\"text-align: right;\">\n",
       "      <th></th>\n",
       "      <th>TV</th>\n",
       "      <th>radio</th>\n",
       "      <th>newspaper</th>\n",
       "    </tr>\n",
       "  </thead>\n",
       "  <tbody>\n",
       "    <tr>\n",
       "      <th>169</th>\n",
       "      <td>215.4</td>\n",
       "      <td>23.6</td>\n",
       "      <td>57.6</td>\n",
       "    </tr>\n",
       "    <tr>\n",
       "      <th>113</th>\n",
       "      <td>175.7</td>\n",
       "      <td>15.4</td>\n",
       "      <td>2.4</td>\n",
       "    </tr>\n",
       "    <tr>\n",
       "      <th>172</th>\n",
       "      <td>164.5</td>\n",
       "      <td>20.9</td>\n",
       "      <td>47.4</td>\n",
       "    </tr>\n",
       "    <tr>\n",
       "      <th>182</th>\n",
       "      <td>218.5</td>\n",
       "      <td>5.4</td>\n",
       "      <td>27.4</td>\n",
       "    </tr>\n",
       "    <tr>\n",
       "      <th>8</th>\n",
       "      <td>120.2</td>\n",
       "      <td>19.6</td>\n",
       "      <td>11.6</td>\n",
       "    </tr>\n",
       "  </tbody>\n",
       "</table>\n",
       "</div>"
      ],
      "text/plain": [
       "        TV  radio  newspaper\n",
       "169  215.4   23.6       57.6\n",
       "113  175.7   15.4        2.4\n",
       "172  164.5   20.9       47.4\n",
       "182  218.5    5.4       27.4\n",
       "8    120.2   19.6       11.6"
      ]
     },
     "execution_count": 154,
     "metadata": {},
     "output_type": "execute_result"
    }
   ],
   "source": [
    "X_train.head()"
   ]
  },
  {
   "cell_type": "code",
   "execution_count": 156,
   "metadata": {},
   "outputs": [
    {
     "data": {
      "text/plain": [
       "169    17.1\n",
       "113    14.1\n",
       "172    14.5\n",
       "182    12.2\n",
       "8      13.2\n",
       "Name: sales, dtype: float64"
      ]
     },
     "execution_count": 156,
     "metadata": {},
     "output_type": "execute_result"
    }
   ],
   "source": [
    "y_train.head()"
   ]
  },
  {
   "cell_type": "code",
   "execution_count": 159,
   "metadata": {},
   "outputs": [],
   "source": [
    "# Building Linear Model using statsmodel.api\n",
    "import statsmodels.api as sm\n",
    "\n",
    "# Add a constant to get an intercept\n",
    "X_train_sm = sm.add_constant(X_train)\n",
    "\n",
    "# Fit the regression line using 'OLS' -> Ordinary Least Squares regression (OLS)\n",
    "# OLS is more commonly named linear regression\n",
    "lr = sm.OLS(y_train, X_train_sm).fit()"
   ]
  },
  {
   "cell_type": "code",
   "execution_count": 160,
   "metadata": {},
   "outputs": [
    {
     "data": {
      "text/plain": [
       "const        2.817275\n",
       "TV           0.045586\n",
       "radio        0.185698\n",
       "newspaper    0.002233\n",
       "dtype: float64"
      ]
     },
     "execution_count": 160,
     "metadata": {},
     "output_type": "execute_result"
    }
   ],
   "source": [
    "# Print the parameters, i.e. the intercept and the slope of the regression line fitted\n",
    "lr.params"
   ]
  },
  {
   "cell_type": "code",
   "execution_count": 115,
   "metadata": {
    "scrolled": false
   },
   "outputs": [
    {
     "name": "stdout",
     "output_type": "stream",
     "text": [
      "                            OLS Regression Results                            \n",
      "==============================================================================\n",
      "Dep. Variable:                  sales   R-squared:                       0.892\n",
      "Model:                            OLS   Adj. R-squared:                  0.889\n",
      "Method:                 Least Squares   F-statistic:                     427.4\n",
      "Date:                Sat, 07 Mar 2020   Prob (F-statistic):           5.38e-75\n",
      "Time:                        21:12:05   Log-Likelihood:                -316.74\n",
      "No. Observations:                 160   AIC:                             641.5\n",
      "Df Residuals:                     156   BIC:                             653.8\n",
      "Df Model:                           3                                         \n",
      "Covariance Type:            nonrobust                                         \n",
      "==============================================================================\n",
      "                 coef    std err          t      P>|t|      [0.025      0.975]\n",
      "------------------------------------------------------------------------------\n",
      "const          2.8173      0.357      7.881      0.000       2.111       3.523\n",
      "TV             0.0456      0.002     29.444      0.000       0.043       0.049\n",
      "radio          0.1857      0.010     18.012      0.000       0.165       0.206\n",
      "newspaper      0.0022      0.007      0.325      0.746      -0.011       0.016\n",
      "==============================================================================\n",
      "Omnibus:                       43.762   Durbin-Watson:                   1.911\n",
      "Prob(Omnibus):                  0.000   Jarque-Bera (JB):               91.253\n",
      "Skew:                          -1.220   Prob(JB):                     1.53e-20\n",
      "Kurtosis:                       5.781   Cond. No.                         445.\n",
      "==============================================================================\n",
      "\n",
      "Warnings:\n",
      "[1] Standard Errors assume that the covariance matrix of the errors is correctly specified.\n"
     ]
    }
   ],
   "source": [
    "# Performing a summary operation \n",
    "print(lr.summary())"
   ]
  },
  {
   "cell_type": "markdown",
   "metadata": {},
   "source": [
    "### Model Evaluation"
   ]
  },
  {
   "cell_type": "code",
   "execution_count": 117,
   "metadata": {},
   "outputs": [],
   "source": [
    "# Distribution of the error terms\n",
    "y_train_pred = lr.predict(X_train_sm)\n",
    "res = (y_train - y_train_pred)"
   ]
  },
  {
   "cell_type": "code",
   "execution_count": 118,
   "metadata": {},
   "outputs": [
    {
     "data": {
      "image/png": "[encoded data removed]",
      "text/plain": [
       "<Figure size 432x288 with 1 Axes>"
      ]
     },
     "metadata": {
      "needs_background": "light"
     },
     "output_type": "display_data"
    }
   ],
   "source": [
    "fig = plt.figure()\n",
    "sns.distplot(res, bins = 15)\n",
    "fig.suptitle('Error Terms')                  # plot heading \n",
    "plt.xlabel('y_train - y_train_pred')         # X-label\n",
    "plt.show()"
   ]
  },
  {
   "cell_type": "markdown",
   "metadata": {},
   "source": [
    "### Predictions on the Test Set"
   ]
  },
  {
   "cell_type": "code",
   "execution_count": 120,
   "metadata": {},
   "outputs": [],
   "source": [
    "# Add a constant to X_test\n",
    "X_test_sm = sm.add_constant(X_test)\n",
    "\n",
    "# Predict the y values corresponding to X_test_sm\n",
    "y_pred = lr.predict(X_test_sm)"
   ]
  },
  {
   "cell_type": "code",
   "execution_count": 121,
   "metadata": {},
   "outputs": [
    {
     "data": {
      "text/plain": [
       "127    10.509488\n",
       "105    20.057236\n",
       "100    16.826655\n",
       "93     19.094058\n",
       "112    20.943838\n",
       "dtype: float64"
      ]
     },
     "execution_count": 121,
     "metadata": {},
     "output_type": "execute_result"
    }
   ],
   "source": [
    "y_pred.head()"
   ]
  },
  {
   "cell_type": "markdown",
   "metadata": {},
   "source": [
    "#### MSE"
   ]
  },
  {
   "cell_type": "code",
   "execution_count": 163,
   "metadata": {},
   "outputs": [
    {
     "data": {
      "text/plain": [
       "1.3165457764851047"
      ]
     },
     "execution_count": 163,
     "metadata": {},
     "output_type": "execute_result"
    }
   ],
   "source": [
    "# Returns the mean squared error (square root)\n",
    "from sklearn.metrics import mean_squared_error\n",
    "np.sqrt(mean_squared_error(y_test, y_pred))"
   ]
  },
  {
   "cell_type": "markdown",
   "metadata": {},
   "source": [
    "#### R-squared\n",
    "- R-squared represents the goodness of fit of a regression model. The closer the value of r-square to 1, the better is the model fitted."
   ]
  },
  {
   "cell_type": "code",
   "execution_count": 164,
   "metadata": {},
   "outputs": [
    {
     "data": {
      "text/plain": [
       "0.9184369032278499"
      ]
     },
     "execution_count": 164,
     "metadata": {},
     "output_type": "execute_result"
    }
   ],
   "source": [
    "# Checking the R-squared on the test set\n",
    "from sklearn.metrics import r2_score\n",
    "r_squared = r2_score(y_test, y_pred)\n",
    "r_squared"
   ]
  },
  {
   "cell_type": "markdown",
   "metadata": {},
   "source": [
    "**In conclusion, the value of r-square is close to 1 (or 100% when converted from 0.918 to 91.8%), therefore the model has a good fit.**"
   ]
  }
 ],
 "metadata": {
  "kernelspec": {
   "display_name": "Python 3",
   "language": "python",
   "name": "python3"
  },
  "language_info": {
   "codemirror_mode": {
    "name": "ipython",
    "version": 3
   },
   "file_extension": ".py",
   "mimetype": "text/x-python",
   "name": "python",
   "nbconvert_exporter": "python",
   "pygments_lexer": "ipython3",
   "version": "3.7.3"
  }
 },
 "nbformat": 4,
 "nbformat_minor": 2
}
