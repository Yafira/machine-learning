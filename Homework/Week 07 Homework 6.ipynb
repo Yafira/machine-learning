{
 "cells": [
  {
   "cell_type": "markdown",
   "metadata": {},
   "source": [
    "# Week 7 Homework 6 (Due on Monday, March 23 at 11:59PM)\n",
    "Perform 3-fold cross validation on TV vs. Sales by the following the instructions:\n",
    "\n",
    "1. Use train_test split twice to randomly split the data into 3 subsets `data1`, `data2`, `data3`, each containing one third of data.\n",
    "\n",
    "2. Train polynomial regression model with degree = 1, 2, 5, 10 on `data1` and `data2`, calculate the MSE on `data3`.\n",
    "\n",
    "3. Train polynomial regression model with degree = 1, 2, 5, 10 on `data2` and `data3`, calculate the MSE on `data1`.\n",
    "\n",
    "4. Train polynomial regression model with degree = 1, 2, 5, 10 on `data1` and `data3`, calculate the MSE on `data2`.\n",
    "\n",
    "5. Now each of the three models has three mse values. Compare the average mse value of the models. Which model has the lowest average MSE?"
   ]
  },
  {
   "cell_type": "code",
   "execution_count": 1,
   "metadata": {},
   "outputs": [],
   "source": [
    "import numpy as np\n",
    "import pandas as pd\n",
    "import matplotlib.pyplot as plt\n",
    "import seaborn as sns\n",
    "%matplotlib inline"
   ]
  },
  {
   "cell_type": "code",
   "execution_count": 2,
   "metadata": {},
   "outputs": [
    {
     "data": {
      "text/html": [
       "<div>\n",
       "<style scoped>\n",
       "    .dataframe tbody tr th:only-of-type {\n",
       "        vertical-align: middle;\n",
       "    }\n",
       "\n",
       "    .dataframe tbody tr th {\n",
       "        vertical-align: top;\n",
       "    }\n",
       "\n",
       "    .dataframe thead th {\n",
       "        text-align: right;\n",
       "    }\n",
       "</style>\n",
       "<table border=\"1\" class=\"dataframe\">\n",
       "  <thead>\n",
       "    <tr style=\"text-align: right;\">\n",
       "      <th></th>\n",
       "      <th>TV</th>\n",
       "      <th>radio</th>\n",
       "      <th>newspaper</th>\n",
       "      <th>sales</th>\n",
       "    </tr>\n",
       "  </thead>\n",
       "  <tbody>\n",
       "    <tr>\n",
       "      <th>1</th>\n",
       "      <td>230.1</td>\n",
       "      <td>37.8</td>\n",
       "      <td>69.2</td>\n",
       "      <td>22.1</td>\n",
       "    </tr>\n",
       "    <tr>\n",
       "      <th>2</th>\n",
       "      <td>44.5</td>\n",
       "      <td>39.3</td>\n",
       "      <td>45.1</td>\n",
       "      <td>10.4</td>\n",
       "    </tr>\n",
       "    <tr>\n",
       "      <th>3</th>\n",
       "      <td>17.2</td>\n",
       "      <td>45.9</td>\n",
       "      <td>69.3</td>\n",
       "      <td>9.3</td>\n",
       "    </tr>\n",
       "    <tr>\n",
       "      <th>4</th>\n",
       "      <td>151.5</td>\n",
       "      <td>41.3</td>\n",
       "      <td>58.5</td>\n",
       "      <td>18.5</td>\n",
       "    </tr>\n",
       "    <tr>\n",
       "      <th>5</th>\n",
       "      <td>180.8</td>\n",
       "      <td>10.8</td>\n",
       "      <td>58.4</td>\n",
       "      <td>12.9</td>\n",
       "    </tr>\n",
       "  </tbody>\n",
       "</table>\n",
       "</div>"
      ],
      "text/plain": [
       "      TV  radio  newspaper  sales\n",
       "1  230.1   37.8       69.2   22.1\n",
       "2   44.5   39.3       45.1   10.4\n",
       "3   17.2   45.9       69.3    9.3\n",
       "4  151.5   41.3       58.5   18.5\n",
       "5  180.8   10.8       58.4   12.9"
      ]
     },
     "execution_count": 2,
     "metadata": {},
     "output_type": "execute_result"
    }
   ],
   "source": [
    "url = \"http://faculty.marshall.usc.edu/gareth-james/ISL/Advertising.csv\"\n",
    "advertising = pd.read_csv(url, index_col=0)\n",
    "advertising.head()"
   ]
  },
  {
   "cell_type": "code",
   "execution_count": 3,
   "metadata": {},
   "outputs": [
    {
     "data": {
      "text/html": [
       "<div>\n",
       "<style scoped>\n",
       "    .dataframe tbody tr th:only-of-type {\n",
       "        vertical-align: middle;\n",
       "    }\n",
       "\n",
       "    .dataframe tbody tr th {\n",
       "        vertical-align: top;\n",
       "    }\n",
       "\n",
       "    .dataframe thead th {\n",
       "        text-align: right;\n",
       "    }\n",
       "</style>\n",
       "<table border=\"1\" class=\"dataframe\">\n",
       "  <thead>\n",
       "    <tr style=\"text-align: right;\">\n",
       "      <th></th>\n",
       "      <th>TV</th>\n",
       "      <th>radio</th>\n",
       "      <th>newspaper</th>\n",
       "      <th>sales</th>\n",
       "    </tr>\n",
       "  </thead>\n",
       "  <tbody>\n",
       "    <tr>\n",
       "      <th>1</th>\n",
       "      <td>230.1</td>\n",
       "      <td>37.8</td>\n",
       "      <td>69.2</td>\n",
       "      <td>22.1</td>\n",
       "    </tr>\n",
       "    <tr>\n",
       "      <th>2</th>\n",
       "      <td>44.5</td>\n",
       "      <td>39.3</td>\n",
       "      <td>45.1</td>\n",
       "      <td>10.4</td>\n",
       "    </tr>\n",
       "    <tr>\n",
       "      <th>3</th>\n",
       "      <td>17.2</td>\n",
       "      <td>45.9</td>\n",
       "      <td>69.3</td>\n",
       "      <td>9.3</td>\n",
       "    </tr>\n",
       "    <tr>\n",
       "      <th>4</th>\n",
       "      <td>151.5</td>\n",
       "      <td>41.3</td>\n",
       "      <td>58.5</td>\n",
       "      <td>18.5</td>\n",
       "    </tr>\n",
       "    <tr>\n",
       "      <th>5</th>\n",
       "      <td>180.8</td>\n",
       "      <td>10.8</td>\n",
       "      <td>58.4</td>\n",
       "      <td>12.9</td>\n",
       "    </tr>\n",
       "  </tbody>\n",
       "</table>\n",
       "</div>"
      ],
      "text/plain": [
       "      TV  radio  newspaper  sales\n",
       "1  230.1   37.8       69.2   22.1\n",
       "2   44.5   39.3       45.1   10.4\n",
       "3   17.2   45.9       69.3    9.3\n",
       "4  151.5   41.3       58.5   18.5\n",
       "5  180.8   10.8       58.4   12.9"
      ]
     },
     "execution_count": 3,
     "metadata": {},
     "output_type": "execute_result"
    }
   ],
   "source": [
    "data = advertising[['TV', 'radio', 'newspaper', 'sales']]\n",
    "data.head()"
   ]
  },
  {
   "cell_type": "code",
   "execution_count": 4,
   "metadata": {},
   "outputs": [
    {
     "data": {
      "text/plain": [
       "TV           0\n",
       "radio        0\n",
       "newspaper    0\n",
       "sales        0\n",
       "dtype: int64"
      ]
     },
     "execution_count": 4,
     "metadata": {},
     "output_type": "execute_result"
    }
   ],
   "source": [
    "data.isnull().sum()"
   ]
  },
  {
   "cell_type": "code",
   "execution_count": 5,
   "metadata": {},
   "outputs": [
    {
     "data": {
      "text/plain": [
       "<seaborn.axisgrid.PairGrid at 0x1a19008c18>"
      ]
     },
     "execution_count": 5,
     "metadata": {},
     "output_type": "execute_result"
    },
    {
     "data": {
      "image/png": "[encoded data removed]",
      "text/plain": [
       "<Figure size 720x720 with 20 Axes>"
      ]
     },
     "metadata": {
      "needs_background": "light"
     },
     "output_type": "display_data"
    },
    {
     "data": {
      "image/png": "[encoded data removed]",
      "text/plain": [
       "<Figure size 540x180 with 3 Axes>"
      ]
     },
     "metadata": {
      "needs_background": "light"
     },
     "output_type": "display_data"
    }
   ],
   "source": [
    "sns.pairplot(data)\n",
    "sns.pairplot(data=data,x_vars=['TV','radio','newspaper'],y_vars='sales',kind='reg')"
   ]
  },
  {
   "cell_type": "markdown",
   "metadata": {},
   "source": [
    "### Train_Test_Split"
   ]
  },
  {
   "cell_type": "markdown",
   "metadata": {},
   "source": [
    "**1. Use train_test split twice to randomly split the data into 3 subsets data1, data2, data3, each containing one third of data.**"
   ]
  },
  {
   "cell_type": "code",
   "execution_count": 6,
   "metadata": {},
   "outputs": [],
   "source": [
    "from sklearn.model_selection import train_test_split\n",
    "temp, data1 = train_test_split(data, test_size=0.33)"
   ]
  },
  {
   "cell_type": "code",
   "execution_count": 7,
   "metadata": {},
   "outputs": [
    {
     "data": {
      "text/html": [
       "<div>\n",
       "<style scoped>\n",
       "    .dataframe tbody tr th:only-of-type {\n",
       "        vertical-align: middle;\n",
       "    }\n",
       "\n",
       "    .dataframe tbody tr th {\n",
       "        vertical-align: top;\n",
       "    }\n",
       "\n",
       "    .dataframe thead th {\n",
       "        text-align: right;\n",
       "    }\n",
       "</style>\n",
       "<table border=\"1\" class=\"dataframe\">\n",
       "  <thead>\n",
       "    <tr style=\"text-align: right;\">\n",
       "      <th></th>\n",
       "      <th>TV</th>\n",
       "      <th>radio</th>\n",
       "      <th>newspaper</th>\n",
       "      <th>sales</th>\n",
       "    </tr>\n",
       "  </thead>\n",
       "  <tbody>\n",
       "    <tr>\n",
       "      <th>20</th>\n",
       "      <td>147.3</td>\n",
       "      <td>23.9</td>\n",
       "      <td>19.1</td>\n",
       "      <td>14.6</td>\n",
       "    </tr>\n",
       "    <tr>\n",
       "      <th>146</th>\n",
       "      <td>140.3</td>\n",
       "      <td>1.9</td>\n",
       "      <td>9.0</td>\n",
       "      <td>10.3</td>\n",
       "    </tr>\n",
       "    <tr>\n",
       "      <th>29</th>\n",
       "      <td>248.8</td>\n",
       "      <td>27.1</td>\n",
       "      <td>22.9</td>\n",
       "      <td>18.9</td>\n",
       "    </tr>\n",
       "    <tr>\n",
       "      <th>65</th>\n",
       "      <td>131.1</td>\n",
       "      <td>42.8</td>\n",
       "      <td>28.9</td>\n",
       "      <td>18.0</td>\n",
       "    </tr>\n",
       "    <tr>\n",
       "      <th>163</th>\n",
       "      <td>188.4</td>\n",
       "      <td>18.1</td>\n",
       "      <td>25.6</td>\n",
       "      <td>14.9</td>\n",
       "    </tr>\n",
       "  </tbody>\n",
       "</table>\n",
       "</div>"
      ],
      "text/plain": [
       "        TV  radio  newspaper  sales\n",
       "20   147.3   23.9       19.1   14.6\n",
       "146  140.3    1.9        9.0   10.3\n",
       "29   248.8   27.1       22.9   18.9\n",
       "65   131.1   42.8       28.9   18.0\n",
       "163  188.4   18.1       25.6   14.9"
      ]
     },
     "execution_count": 7,
     "metadata": {},
     "output_type": "execute_result"
    }
   ],
   "source": [
    "temp.head()"
   ]
  },
  {
   "cell_type": "code",
   "execution_count": 8,
   "metadata": {},
   "outputs": [
    {
     "data": {
      "text/html": [
       "<div>\n",
       "<style scoped>\n",
       "    .dataframe tbody tr th:only-of-type {\n",
       "        vertical-align: middle;\n",
       "    }\n",
       "\n",
       "    .dataframe tbody tr th {\n",
       "        vertical-align: top;\n",
       "    }\n",
       "\n",
       "    .dataframe thead th {\n",
       "        text-align: right;\n",
       "    }\n",
       "</style>\n",
       "<table border=\"1\" class=\"dataframe\">\n",
       "  <thead>\n",
       "    <tr style=\"text-align: right;\">\n",
       "      <th></th>\n",
       "      <th>TV</th>\n",
       "      <th>radio</th>\n",
       "      <th>newspaper</th>\n",
       "      <th>sales</th>\n",
       "    </tr>\n",
       "  </thead>\n",
       "  <tbody>\n",
       "    <tr>\n",
       "      <th>61</th>\n",
       "      <td>53.5</td>\n",
       "      <td>2.0</td>\n",
       "      <td>21.4</td>\n",
       "      <td>8.1</td>\n",
       "    </tr>\n",
       "    <tr>\n",
       "      <th>156</th>\n",
       "      <td>4.1</td>\n",
       "      <td>11.6</td>\n",
       "      <td>5.7</td>\n",
       "      <td>3.2</td>\n",
       "    </tr>\n",
       "    <tr>\n",
       "      <th>79</th>\n",
       "      <td>5.4</td>\n",
       "      <td>29.9</td>\n",
       "      <td>9.4</td>\n",
       "      <td>5.3</td>\n",
       "    </tr>\n",
       "    <tr>\n",
       "      <th>40</th>\n",
       "      <td>228.0</td>\n",
       "      <td>37.7</td>\n",
       "      <td>32.0</td>\n",
       "      <td>21.5</td>\n",
       "    </tr>\n",
       "    <tr>\n",
       "      <th>35</th>\n",
       "      <td>95.7</td>\n",
       "      <td>1.4</td>\n",
       "      <td>7.4</td>\n",
       "      <td>9.5</td>\n",
       "    </tr>\n",
       "  </tbody>\n",
       "</table>\n",
       "</div>"
      ],
      "text/plain": [
       "        TV  radio  newspaper  sales\n",
       "61    53.5    2.0       21.4    8.1\n",
       "156    4.1   11.6        5.7    3.2\n",
       "79     5.4   29.9        9.4    5.3\n",
       "40   228.0   37.7       32.0   21.5\n",
       "35    95.7    1.4        7.4    9.5"
      ]
     },
     "execution_count": 8,
     "metadata": {},
     "output_type": "execute_result"
    }
   ],
   "source": [
    "data1.head()"
   ]
  },
  {
   "cell_type": "code",
   "execution_count": 9,
   "metadata": {
    "scrolled": true
   },
   "outputs": [],
   "source": [
    "# train_test_split again\n",
    "data2, data3 = train_test_split(temp, test_size=0.5)"
   ]
  },
  {
   "cell_type": "code",
   "execution_count": 10,
   "metadata": {},
   "outputs": [
    {
     "data": {
      "text/html": [
       "<div>\n",
       "<style scoped>\n",
       "    .dataframe tbody tr th:only-of-type {\n",
       "        vertical-align: middle;\n",
       "    }\n",
       "\n",
       "    .dataframe tbody tr th {\n",
       "        vertical-align: top;\n",
       "    }\n",
       "\n",
       "    .dataframe thead th {\n",
       "        text-align: right;\n",
       "    }\n",
       "</style>\n",
       "<table border=\"1\" class=\"dataframe\">\n",
       "  <thead>\n",
       "    <tr style=\"text-align: right;\">\n",
       "      <th></th>\n",
       "      <th>TV</th>\n",
       "      <th>radio</th>\n",
       "      <th>newspaper</th>\n",
       "      <th>sales</th>\n",
       "    </tr>\n",
       "  </thead>\n",
       "  <tbody>\n",
       "    <tr>\n",
       "      <th>174</th>\n",
       "      <td>168.4</td>\n",
       "      <td>7.1</td>\n",
       "      <td>12.8</td>\n",
       "      <td>11.7</td>\n",
       "    </tr>\n",
       "    <tr>\n",
       "      <th>37</th>\n",
       "      <td>266.9</td>\n",
       "      <td>43.8</td>\n",
       "      <td>5.0</td>\n",
       "      <td>25.4</td>\n",
       "    </tr>\n",
       "    <tr>\n",
       "      <th>1</th>\n",
       "      <td>230.1</td>\n",
       "      <td>37.8</td>\n",
       "      <td>69.2</td>\n",
       "      <td>22.1</td>\n",
       "    </tr>\n",
       "    <tr>\n",
       "      <th>60</th>\n",
       "      <td>210.7</td>\n",
       "      <td>29.5</td>\n",
       "      <td>9.3</td>\n",
       "      <td>18.4</td>\n",
       "    </tr>\n",
       "    <tr>\n",
       "      <th>154</th>\n",
       "      <td>171.3</td>\n",
       "      <td>39.7</td>\n",
       "      <td>37.7</td>\n",
       "      <td>19.0</td>\n",
       "    </tr>\n",
       "  </tbody>\n",
       "</table>\n",
       "</div>"
      ],
      "text/plain": [
       "        TV  radio  newspaper  sales\n",
       "174  168.4    7.1       12.8   11.7\n",
       "37   266.9   43.8        5.0   25.4\n",
       "1    230.1   37.8       69.2   22.1\n",
       "60   210.7   29.5        9.3   18.4\n",
       "154  171.3   39.7       37.7   19.0"
      ]
     },
     "execution_count": 10,
     "metadata": {},
     "output_type": "execute_result"
    }
   ],
   "source": [
    "data2.head()"
   ]
  },
  {
   "cell_type": "code",
   "execution_count": 11,
   "metadata": {},
   "outputs": [
    {
     "data": {
      "text/html": [
       "<div>\n",
       "<style scoped>\n",
       "    .dataframe tbody tr th:only-of-type {\n",
       "        vertical-align: middle;\n",
       "    }\n",
       "\n",
       "    .dataframe tbody tr th {\n",
       "        vertical-align: top;\n",
       "    }\n",
       "\n",
       "    .dataframe thead th {\n",
       "        text-align: right;\n",
       "    }\n",
       "</style>\n",
       "<table border=\"1\" class=\"dataframe\">\n",
       "  <thead>\n",
       "    <tr style=\"text-align: right;\">\n",
       "      <th></th>\n",
       "      <th>TV</th>\n",
       "      <th>radio</th>\n",
       "      <th>newspaper</th>\n",
       "      <th>sales</th>\n",
       "    </tr>\n",
       "  </thead>\n",
       "  <tbody>\n",
       "    <tr>\n",
       "      <th>29</th>\n",
       "      <td>248.8</td>\n",
       "      <td>27.1</td>\n",
       "      <td>22.9</td>\n",
       "      <td>18.9</td>\n",
       "    </tr>\n",
       "    <tr>\n",
       "      <th>26</th>\n",
       "      <td>262.9</td>\n",
       "      <td>3.5</td>\n",
       "      <td>19.5</td>\n",
       "      <td>12.0</td>\n",
       "    </tr>\n",
       "    <tr>\n",
       "      <th>143</th>\n",
       "      <td>220.5</td>\n",
       "      <td>33.2</td>\n",
       "      <td>37.9</td>\n",
       "      <td>20.1</td>\n",
       "    </tr>\n",
       "    <tr>\n",
       "      <th>112</th>\n",
       "      <td>241.7</td>\n",
       "      <td>38.0</td>\n",
       "      <td>23.2</td>\n",
       "      <td>21.8</td>\n",
       "    </tr>\n",
       "    <tr>\n",
       "      <th>128</th>\n",
       "      <td>80.2</td>\n",
       "      <td>0.0</td>\n",
       "      <td>9.2</td>\n",
       "      <td>8.8</td>\n",
       "    </tr>\n",
       "  </tbody>\n",
       "</table>\n",
       "</div>"
      ],
      "text/plain": [
       "        TV  radio  newspaper  sales\n",
       "29   248.8   27.1       22.9   18.9\n",
       "26   262.9    3.5       19.5   12.0\n",
       "143  220.5   33.2       37.9   20.1\n",
       "112  241.7   38.0       23.2   21.8\n",
       "128   80.2    0.0        9.2    8.8"
      ]
     },
     "execution_count": 11,
     "metadata": {},
     "output_type": "execute_result"
    }
   ],
   "source": [
    "data3.head()"
   ]
  },
  {
   "cell_type": "markdown",
   "metadata": {},
   "source": [
    "### **Training the model**"
   ]
  },
  {
   "cell_type": "markdown",
   "metadata": {},
   "source": [
    "**2. Train polynomial regression model with degree = 1, 2, 5, 10 on `data1` and `data2`, calculate the MSE on `data3`.**"
   ]
  },
  {
   "cell_type": "code",
   "execution_count": 12,
   "metadata": {},
   "outputs": [],
   "source": [
    "data1_data2 = pd.concat([data1, data2], ignore_index=True, sort =False)"
   ]
  },
  {
   "cell_type": "code",
   "execution_count": 13,
   "metadata": {
    "scrolled": true
   },
   "outputs": [
    {
     "data": {
      "text/html": [
       "<div>\n",
       "<style scoped>\n",
       "    .dataframe tbody tr th:only-of-type {\n",
       "        vertical-align: middle;\n",
       "    }\n",
       "\n",
       "    .dataframe tbody tr th {\n",
       "        vertical-align: top;\n",
       "    }\n",
       "\n",
       "    .dataframe thead th {\n",
       "        text-align: right;\n",
       "    }\n",
       "</style>\n",
       "<table border=\"1\" class=\"dataframe\">\n",
       "  <thead>\n",
       "    <tr style=\"text-align: right;\">\n",
       "      <th></th>\n",
       "      <th>TV</th>\n",
       "      <th>radio</th>\n",
       "      <th>newspaper</th>\n",
       "      <th>sales</th>\n",
       "    </tr>\n",
       "  </thead>\n",
       "  <tbody>\n",
       "    <tr>\n",
       "      <th>0</th>\n",
       "      <td>53.5</td>\n",
       "      <td>2.0</td>\n",
       "      <td>21.4</td>\n",
       "      <td>8.1</td>\n",
       "    </tr>\n",
       "    <tr>\n",
       "      <th>1</th>\n",
       "      <td>4.1</td>\n",
       "      <td>11.6</td>\n",
       "      <td>5.7</td>\n",
       "      <td>3.2</td>\n",
       "    </tr>\n",
       "    <tr>\n",
       "      <th>2</th>\n",
       "      <td>5.4</td>\n",
       "      <td>29.9</td>\n",
       "      <td>9.4</td>\n",
       "      <td>5.3</td>\n",
       "    </tr>\n",
       "    <tr>\n",
       "      <th>3</th>\n",
       "      <td>228.0</td>\n",
       "      <td>37.7</td>\n",
       "      <td>32.0</td>\n",
       "      <td>21.5</td>\n",
       "    </tr>\n",
       "    <tr>\n",
       "      <th>4</th>\n",
       "      <td>95.7</td>\n",
       "      <td>1.4</td>\n",
       "      <td>7.4</td>\n",
       "      <td>9.5</td>\n",
       "    </tr>\n",
       "  </tbody>\n",
       "</table>\n",
       "</div>"
      ],
      "text/plain": [
       "      TV  radio  newspaper  sales\n",
       "0   53.5    2.0       21.4    8.1\n",
       "1    4.1   11.6        5.7    3.2\n",
       "2    5.4   29.9        9.4    5.3\n",
       "3  228.0   37.7       32.0   21.5\n",
       "4   95.7    1.4        7.4    9.5"
      ]
     },
     "execution_count": 13,
     "metadata": {},
     "output_type": "execute_result"
    }
   ],
   "source": [
    "data1_data2.head()"
   ]
  },
  {
   "cell_type": "code",
   "execution_count": 14,
   "metadata": {},
   "outputs": [],
   "source": [
    "X = data1_data2.iloc[:,:-1]\n",
    "y = data1_data2['sales']"
   ]
  },
  {
   "cell_type": "markdown",
   "metadata": {},
   "source": [
    "**Degree = 1**"
   ]
  },
  {
   "cell_type": "code",
   "execution_count": 15,
   "metadata": {},
   "outputs": [
    {
     "data": {
      "text/plain": [
       "LinearRegression(copy_X=True, fit_intercept=True, n_jobs=None, normalize=False)"
      ]
     },
     "execution_count": 15,
     "metadata": {},
     "output_type": "execute_result"
    }
   ],
   "source": [
    "from sklearn.linear_model import LinearRegression\n",
    "lr = LinearRegression()\n",
    "lr.fit(X,y)"
   ]
  },
  {
   "cell_type": "code",
   "execution_count": 16,
   "metadata": {},
   "outputs": [
    {
     "name": "stdout",
     "output_type": "stream",
     "text": [
      "[ 0.04513406  0.20200125 -0.0067757 ] 2.9241379556464295\n"
     ]
    }
   ],
   "source": [
    "# Fitting Polynomial Regression to the dataset\n",
    "from sklearn.preprocessing import PolynomialFeatures\n",
    "poly_features = PolynomialFeatures(degree=1, include_bias=False)\n",
    "poly_features.fit(X)\n",
    "X_poly = poly_features.transform(X)\n",
    "\n",
    "model_pr = LinearRegression()\n",
    "model_pr.fit(X_poly, y)\n",
    "print(model_pr.coef_, model_pr.intercept_)"
   ]
  },
  {
   "cell_type": "markdown",
   "metadata": {},
   "source": [
    "**Degree = 2**"
   ]
  },
  {
   "cell_type": "code",
   "execution_count": 17,
   "metadata": {},
   "outputs": [
    {
     "name": "stdout",
     "output_type": "stream",
     "text": [
      "[ 5.04247273e-02  3.91848036e-02 -4.50865199e-03 -1.03212374e-04\n",
      "  1.02366895e-03  1.34938101e-06  1.85050751e-04 -4.70257155e-06\n",
      "  5.54706347e-05] 5.025002395892978\n"
     ]
    }
   ],
   "source": [
    "# Fitting Polynomial Regression to the dataset\n",
    "poly_features = PolynomialFeatures(degree=2, include_bias=False)\n",
    "poly_features.fit(X)\n",
    "X_poly = poly_features.transform(X)\n",
    "\n",
    "model_pr = LinearRegression()\n",
    "model_pr.fit(X_poly, y)\n",
    "print(model_pr.coef_, model_pr.intercept_)"
   ]
  },
  {
   "cell_type": "markdown",
   "metadata": {},
   "source": [
    "**Degree = 5**"
   ]
  },
  {
   "cell_type": "code",
   "execution_count": 18,
   "metadata": {},
   "outputs": [
    {
     "name": "stdout",
     "output_type": "stream",
     "text": [
      "[ 1.47404882e-01 -4.22908548e-01 -5.09083672e-02 -1.46368282e-03\n",
      "  5.82963572e-03 -3.33728315e-03  3.61537313e-02  1.64611943e-02\n",
      "  6.45186287e-03  8.89600186e-06 -4.54408050e-05  2.26077143e-05\n",
      " -1.53988591e-04  4.25659044e-06  7.78059206e-05 -1.15456348e-03\n",
      " -7.46595221e-04 -4.94630540e-04 -1.85284638e-04 -2.63742875e-08\n",
      "  1.74475038e-07 -9.86677093e-08  3.29185108e-07  4.81565602e-07\n",
      " -3.33397360e-07  3.21406246e-06  9.84201936e-08 -1.54761195e-06\n",
      " -1.97687069e-07  1.68071145e-05  1.56456477e-05  3.74369999e-06\n",
      "  1.11565298e-05  8.77065757e-07  2.88051805e-11 -2.38142093e-10\n",
      "  1.78367036e-10  1.79028938e-10 -1.47397177e-09  4.58058778e-10\n",
      " -8.44926467e-09  3.65861389e-09  4.23048228e-10  1.00365717e-09\n",
      "  4.00411175e-09 -3.88828566e-08  2.77868085e-08 -2.02526776e-09\n",
      " -6.81824935e-10 -1.29797867e-07 -5.33227355e-08 -3.71146413e-08\n",
      " -6.21348347e-08 -4.69830489e-08  1.66991539e-09] 4.09851552177887\n"
     ]
    }
   ],
   "source": [
    "# Fitting Polynomial Regression to the dataset\n",
    "poly_features = PolynomialFeatures(degree=5, include_bias=False)\n",
    "poly_features.fit(X)\n",
    "X_poly = poly_features.transform(X)\n",
    "\n",
    "model_pr = LinearRegression()\n",
    "model_pr.fit(X_poly, y)\n",
    "print(model_pr.coef_, model_pr.intercept_)"
   ]
  },
  {
   "cell_type": "markdown",
   "metadata": {},
   "source": [
    "**Degree = 10**"
   ]
  },
  {
   "cell_type": "code",
   "execution_count": 19,
   "metadata": {
    "scrolled": true
   },
   "outputs": [
    {
     "name": "stdout",
     "output_type": "stream",
     "text": [
      "[ 2.05467767e-11  1.62694924e-12 -7.21228245e-16 -4.63278364e-12\n",
      "  1.60099128e-12 -7.02010191e-15  3.34558053e-13  6.10381571e-13\n",
      "  1.60408837e-13  4.32510640e-14 -5.64744788e-15  3.40015001e-14\n",
      " -2.69879699e-14  1.51515460e-14  1.25770418e-15 -1.14045804e-14\n",
      " -3.47046352e-15  7.89057300e-15  1.76972311e-15  2.58106775e-13\n",
      "  5.57812294e-14  9.48151554e-14  6.81207424e-15  2.37188727e-14\n",
      "  4.30709758e-14  3.14596361e-15  5.65265212e-15  9.52582976e-15\n",
      "  1.77937249e-14  8.99201025e-16  1.46549268e-15  2.21868250e-15\n",
      "  4.26979988e-15  7.50262725e-15  7.51394651e-12  2.07719885e-12\n",
      "  2.98984894e-12  4.61751447e-13  6.92423460e-13  1.45606406e-12\n",
      "  8.17305830e-14  1.82304906e-13  3.34272637e-13  6.37370470e-13\n",
      "  2.06557881e-14  4.96408467e-14  9.22744849e-14  1.50431010e-13\n",
      "  2.75571531e-13  9.63784177e-15  1.80882479e-14  2.94986433e-14\n",
      "  4.51299484e-14  6.89929981e-14  1.20010674e-13  1.41968285e-10\n",
      "  4.68355337e-11  6.28276505e-11  1.17146903e-11  1.54551408e-11\n",
      "  3.34645711e-11  1.10875801e-12  4.57774682e-12  8.58613658e-12\n",
      "  1.63322421e-11 -1.59540422e-14  1.15180584e-12  2.60776861e-12\n",
      "  4.21703400e-12  7.86738017e-12  8.43070334e-14  3.87983512e-13\n",
      "  7.91650462e-13  1.30960284e-12  1.97728743e-12  3.60972381e-12\n",
      "  1.45962155e-13  2.18655207e-13  3.21600023e-13  4.59314684e-13\n",
      "  6.55441555e-13  9.48382714e-13  1.65681608e-12 -1.35802280e-13\n",
      " -1.60966664e-11 -3.95652934e-11  1.11278338e-10  3.77243664e-11\n",
      "  2.98878758e-11 -2.76029425e-11  4.60808182e-11  7.46780574e-11\n",
      "  1.10306265e-10 -2.09248380e-11  1.12478341e-11  4.03088749e-11\n",
      "  5.65118481e-11  1.02774821e-10 -6.19858902e-12  4.09667917e-12\n",
      "  1.41109431e-11  2.52936971e-11  3.41173455e-11  6.03992057e-11\n",
      "  2.98916321e-13  2.78228754e-12  5.75088214e-12  9.38246169e-12\n",
      "  1.36830879e-11  1.73857716e-11  3.10184182e-11  2.24830980e-12\n",
      "  2.68082577e-12  3.42000776e-12  4.33479328e-12  5.68583967e-12\n",
      "  7.39787881e-12  9.43163026e-12  1.64948515e-11 -1.38536109e-14\n",
      "  3.93869896e-13  3.10106447e-13 -6.33235896e-12 -1.18977116e-13\n",
      "  3.37177037e-12  4.18296952e-11 -1.39768531e-11  1.89777501e-11\n",
      " -3.16919148e-11 -8.85891139e-11  1.52164201e-11 -3.68834867e-11\n",
      " -9.33856854e-11  1.14512754e-10 -6.66214891e-11  4.81037818e-11\n",
      "  4.28747264e-11  8.91146873e-11  2.28687122e-11 -1.14846231e-10\n",
      " -1.90059598e-11  2.90743164e-11  5.20335868e-11  7.59499039e-11\n",
      "  1.00087064e-10  1.98814796e-11 -8.08818464e-11  1.30472397e-11\n",
      "  2.35579040e-11  3.49786119e-11  4.70864646e-11  6.23257247e-11\n",
      "  6.46577293e-11  1.45844246e-11 -3.94156865e-12  2.65244006e-11\n",
      "  2.71957456e-11  3.06942207e-11  3.22808780e-11  3.65354585e-11\n",
      "  4.41864598e-11  4.68163250e-11  3.25294388e-11  5.41639166e-11\n",
      "  8.97268991e-17 -4.79175572e-15  6.77674721e-16  9.65611392e-14\n",
      "  3.38837715e-14 -7.84597513e-14 -6.35353902e-13 -6.51504718e-13\n",
      " -3.43884866e-13  9.85476610e-13  6.29307463e-13  6.34613350e-12\n",
      "  1.64875471e-12  2.10995312e-12 -6.44350316e-12 -5.31991510e-12\n",
      "  1.33615649e-11 -5.82059798e-11  2.78899702e-11 -1.27164383e-11\n",
      "  2.35804677e-11  3.32925919e-11 -1.00183261e-10  1.52911155e-10\n",
      " -2.35209426e-11 -3.25928765e-11  2.05553209e-11 -4.77717655e-11\n",
      "  6.21780276e-12 -1.78806775e-11  1.23051064e-11  6.38063761e-12\n",
      "  2.24208568e-11 -4.94900916e-11  3.94085315e-11  4.05867293e-11\n",
      "  2.65498259e-13 -3.08624548e-11 -2.39608896e-11 -5.81751594e-11\n",
      " -3.06187256e-11  3.68000575e-11  5.45613092e-11 -6.74848261e-11\n",
      " -2.75356111e-12  1.76840555e-11  2.41212791e-11  4.48399676e-11\n",
      " -1.15052227e-11 -6.69888915e-11 -5.71725185e-11  3.67768344e-11\n",
      "  8.26488125e-11 -7.02459949e-11  1.20554384e-11 -1.48799763e-19\n",
      "  8.65263067e-18 -3.16477769e-18 -9.55307353e-17 -4.12573377e-17\n",
      "  1.53644167e-16 -1.51053327e-15 -5.59059890e-16  9.69230067e-16\n",
      " -1.42283481e-15  3.44473494e-14  9.56051840e-15  2.23263822e-14\n",
      " -1.84930072e-14  3.86570009e-15 -1.98520963e-13 -2.82822585e-13\n",
      " -4.10763580e-14 -1.61560554e-13  1.63293032e-13  1.57026641e-14\n",
      "  2.82494969e-13  3.10831613e-12 -2.03703056e-12  2.64820038e-12\n",
      " -4.86211487e-13 -7.09345336e-13 -7.98795960e-14  1.84947197e-12\n",
      " -1.49469718e-11  1.09676397e-11 -1.05205876e-11  3.52865797e-12\n",
      " -2.95180869e-12  3.65327575e-12 -2.07765595e-13 -7.26003734e-12\n",
      "  2.67567082e-11 -1.23400220e-11  1.84224399e-11 -5.67365033e-12\n",
      " -1.04419305e-11  1.60498750e-11 -1.12014158e-11  1.55002886e-12\n",
      "  3.23726027e-12 -6.71203501e-12  2.39774365e-11 -9.48515243e-11\n",
      "  6.42374545e-11  2.36470824e-12 -3.86104360e-12 -1.37361789e-11\n",
      "  1.15898820e-11 -2.09184003e-12  1.08065236e-12 -1.07642436e-11\n",
      "  7.16197978e-12  9.65913345e-12  1.98295510e-11 -4.60068631e-13\n",
      " -5.16256015e-11  4.72553968e-11 -1.68616117e-11  2.24084624e-12\n",
      "  4.05006613e-15] 4.25152377041435\n"
     ]
    }
   ],
   "source": [
    "# Fitting Polynomial Regression to the dataset\n",
    "poly_features = PolynomialFeatures(degree=10, include_bias=False)\n",
    "poly_features.fit(X)\n",
    "X_poly = poly_features.transform(X)\n",
    "\n",
    "model_pr = LinearRegression()\n",
    "model_pr.fit(X_poly, y)\n",
    "print(model_pr.coef_, model_pr.intercept_)"
   ]
  },
  {
   "cell_type": "markdown",
   "metadata": {},
   "source": [
    "**MSE on data3**"
   ]
  },
  {
   "cell_type": "code",
   "execution_count": 26,
   "metadata": {},
   "outputs": [
    {
     "name": "stdout",
     "output_type": "stream",
     "text": [
      "MSE: 1.859378814961709\n"
     ]
    }
   ],
   "source": [
    "from sklearn.metrics import mean_squared_error\n",
    "predictions = model_pr.predict(X_poly)\n",
    "mse = mean_squared_error(y, predictions)\n",
    "print(\"MSE:\", mse)"
   ]
  },
  {
   "cell_type": "markdown",
   "metadata": {},
   "source": [
    "**3. Train polynomial rTrain polynomial regression model with degree = 1, 2, 5, 10 on `data2` and `data3`, calculate the MSE on `data1`.**"
   ]
  },
  {
   "cell_type": "code",
   "execution_count": 27,
   "metadata": {},
   "outputs": [],
   "source": [
    "data2_data3 = pd.concat([data2, data3], ignore_index=True, sort =False)"
   ]
  },
  {
   "cell_type": "code",
   "execution_count": 28,
   "metadata": {
    "scrolled": true
   },
   "outputs": [
    {
     "data": {
      "text/html": [
       "<div>\n",
       "<style scoped>\n",
       "    .dataframe tbody tr th:only-of-type {\n",
       "        vertical-align: middle;\n",
       "    }\n",
       "\n",
       "    .dataframe tbody tr th {\n",
       "        vertical-align: top;\n",
       "    }\n",
       "\n",
       "    .dataframe thead th {\n",
       "        text-align: right;\n",
       "    }\n",
       "</style>\n",
       "<table border=\"1\" class=\"dataframe\">\n",
       "  <thead>\n",
       "    <tr style=\"text-align: right;\">\n",
       "      <th></th>\n",
       "      <th>TV</th>\n",
       "      <th>radio</th>\n",
       "      <th>newspaper</th>\n",
       "      <th>sales</th>\n",
       "    </tr>\n",
       "  </thead>\n",
       "  <tbody>\n",
       "    <tr>\n",
       "      <th>0</th>\n",
       "      <td>168.4</td>\n",
       "      <td>7.1</td>\n",
       "      <td>12.8</td>\n",
       "      <td>11.7</td>\n",
       "    </tr>\n",
       "    <tr>\n",
       "      <th>1</th>\n",
       "      <td>266.9</td>\n",
       "      <td>43.8</td>\n",
       "      <td>5.0</td>\n",
       "      <td>25.4</td>\n",
       "    </tr>\n",
       "    <tr>\n",
       "      <th>2</th>\n",
       "      <td>230.1</td>\n",
       "      <td>37.8</td>\n",
       "      <td>69.2</td>\n",
       "      <td>22.1</td>\n",
       "    </tr>\n",
       "    <tr>\n",
       "      <th>3</th>\n",
       "      <td>210.7</td>\n",
       "      <td>29.5</td>\n",
       "      <td>9.3</td>\n",
       "      <td>18.4</td>\n",
       "    </tr>\n",
       "    <tr>\n",
       "      <th>4</th>\n",
       "      <td>171.3</td>\n",
       "      <td>39.7</td>\n",
       "      <td>37.7</td>\n",
       "      <td>19.0</td>\n",
       "    </tr>\n",
       "  </tbody>\n",
       "</table>\n",
       "</div>"
      ],
      "text/plain": [
       "      TV  radio  newspaper  sales\n",
       "0  168.4    7.1       12.8   11.7\n",
       "1  266.9   43.8        5.0   25.4\n",
       "2  230.1   37.8       69.2   22.1\n",
       "3  210.7   29.5        9.3   18.4\n",
       "4  171.3   39.7       37.7   19.0"
      ]
     },
     "execution_count": 28,
     "metadata": {},
     "output_type": "execute_result"
    }
   ],
   "source": [
    "data2_data3.head()"
   ]
  },
  {
   "cell_type": "code",
   "execution_count": 29,
   "metadata": {},
   "outputs": [],
   "source": [
    "X2 = data2_data3.iloc[:,:-1]\n",
    "y2 = data2_data3['sales']"
   ]
  },
  {
   "cell_type": "markdown",
   "metadata": {},
   "source": [
    "**Degree = 1**"
   ]
  },
  {
   "cell_type": "code",
   "execution_count": 30,
   "metadata": {},
   "outputs": [
    {
     "data": {
      "text/plain": [
       "LinearRegression(copy_X=True, fit_intercept=True, n_jobs=None, normalize=False)"
      ]
     },
     "execution_count": 30,
     "metadata": {},
     "output_type": "execute_result"
    }
   ],
   "source": [
    "from sklearn.linear_model import LinearRegression\n",
    "lr2 = LinearRegression()\n",
    "lr2.fit(X2,y2)"
   ]
  },
  {
   "cell_type": "code",
   "execution_count": 31,
   "metadata": {},
   "outputs": [
    {
     "name": "stdout",
     "output_type": "stream",
     "text": [
      "[0.04718312 0.17510401 0.0032768 ] 3.037173475320115\n"
     ]
    }
   ],
   "source": [
    "# Fitting Polynomial Regression to the dataset\n",
    "poly_features2 = PolynomialFeatures(degree=1, include_bias=False)\n",
    "poly_features2.fit(X2)\n",
    "X_poly2 = poly_features2.transform(X2)\n",
    "\n",
    "model_pr2 = LinearRegression()\n",
    "model_pr2.fit(X_poly2, y2)\n",
    "print(model_pr2.coef_, model_pr2.intercept_)"
   ]
  },
  {
   "cell_type": "markdown",
   "metadata": {},
   "source": [
    "**Degree = 2**"
   ]
  },
  {
   "cell_type": "code",
   "execution_count": 32,
   "metadata": {},
   "outputs": [
    {
     "name": "stdout",
     "output_type": "stream",
     "text": [
      "[ 5.15581698e-02  1.47438078e-02  1.73969415e-02 -1.12033735e-04\n",
      "  1.15546505e-03 -8.08133382e-05 -1.54396791e-05  1.92458440e-04\n",
      " -6.92000433e-05] 5.086909903815908\n"
     ]
    }
   ],
   "source": [
    "poly_features2 = PolynomialFeatures(degree=2, include_bias=False)\n",
    "poly_features2.fit(X2)\n",
    "X_poly2 = poly_features2.transform(X2)\n",
    "\n",
    "model_pr2 = LinearRegression()\n",
    "model_pr2.fit(X_poly2, y2)\n",
    "print(model_pr2.coef_, model_pr2.intercept_)"
   ]
  },
  {
   "cell_type": "markdown",
   "metadata": {},
   "source": [
    "**Degree = 5**"
   ]
  },
  {
   "cell_type": "code",
   "execution_count": 33,
   "metadata": {},
   "outputs": [
    {
     "name": "stdout",
     "output_type": "stream",
     "text": [
      "[ 1.47772401e-01 -4.44142232e-02  7.88903782e-02 -1.95218019e-03\n",
      "  3.14496238e-03 -1.38251734e-04  1.34059366e-02 -8.52251635e-03\n",
      " -2.99461972e-03  1.37437059e-05 -1.00835575e-05  5.88465112e-06\n",
      " -5.09728175e-05 -1.64083740e-04  5.63107677e-05 -7.70525359e-04\n",
      "  5.22363137e-04  2.87339783e-04 -3.87087853e-05 -4.52571335e-08\n",
      "  5.50518077e-08 -4.85723757e-08 -5.35165525e-07  1.22252475e-06\n",
      " -4.45588239e-07  2.92605867e-06 -5.37349879e-07  1.48156679e-06\n",
      " -3.92020561e-07  1.80482282e-05 -1.04091803e-05 -6.89292400e-06\n",
      " -3.55320060e-06  1.78860689e-06  5.35624115e-11 -1.21699113e-10\n",
      "  1.46141890e-10  2.48985394e-09 -3.35814124e-09  8.05267387e-10\n",
      " -1.24621666e-08  7.59687640e-09 -2.06275402e-09  1.19461260e-09\n",
      "  1.90056459e-08 -2.51122705e-08  7.15661013e-09 -1.40163064e-08\n",
      "  3.44022470e-09 -2.08398706e-07  1.86852878e-07 -1.04652389e-07\n",
      "  1.45375093e-07 -1.53421502e-08 -1.18649271e-08] 3.520254135249317\n"
     ]
    }
   ],
   "source": [
    "poly_features2 = PolynomialFeatures(degree=5, include_bias=False)\n",
    "poly_features2.fit(X2)\n",
    "X_poly2 = poly_features2.transform(X2)\n",
    "\n",
    "model_pr2 = LinearRegression()\n",
    "model_pr2.fit(X_poly2, y2)\n",
    "print(model_pr2.coef_, model_pr2.intercept_)"
   ]
  },
  {
   "cell_type": "markdown",
   "metadata": {},
   "source": [
    "**Degree = 10**"
   ]
  },
  {
   "cell_type": "code",
   "execution_count": 34,
   "metadata": {
    "scrolled": true
   },
   "outputs": [
    {
     "name": "stdout",
     "output_type": "stream",
     "text": [
      "[ 1.71585271e-11  1.87597630e-12  1.02221734e-12 -1.44882792e-13\n",
      "  1.95514755e-13 -5.30100746e-13 -9.81714370e-14 -5.42382204e-16\n",
      " -8.09143249e-16  1.35028810e-14  2.32646240e-15 -4.45019174e-16\n",
      "  2.62039951e-16 -9.03007408e-17 -2.29160513e-16  1.80362560e-16\n",
      " -3.93918466e-17 -6.43996495e-17 -1.04807900e-16  5.88277183e-13\n",
      "  9.03723864e-14 -3.07261455e-14  1.27256576e-14 -5.53843636e-15\n",
      " -2.05043203e-14  1.81360827e-15 -1.41802501e-15 -3.83470818e-15\n",
      " -5.45417825e-15  2.79960477e-16 -3.16157970e-16 -7.75797783e-16\n",
      " -1.21528223e-15 -9.86093704e-16  1.70985252e-11  2.87384573e-12\n",
      " -2.00764266e-12  4.43392707e-13 -3.14370699e-13 -9.28493828e-13\n",
      "  8.00013445e-14 -7.12223022e-14 -1.64050137e-13 -2.72711341e-13\n",
      "  1.19610430e-14 -1.75495390e-14 -3.72892250e-14 -5.89451145e-14\n",
      " -7.36686639e-14  2.55877771e-15 -3.60143624e-15 -8.82650823e-15\n",
      " -1.35265804e-14 -1.84868215e-14 -1.64641570e-14  1.75644976e-10\n",
      "  4.14466425e-11 -8.09846709e-11  8.62564515e-12 -1.18468252e-11\n",
      " -2.59095781e-11  3.09239552e-12 -2.40357026e-12 -4.36790233e-12\n",
      " -7.38120242e-12  6.66382329e-13 -5.12652304e-13 -1.11049697e-12\n",
      " -1.65865613e-12 -2.81636273e-12  8.96590893e-14 -1.57459358e-13\n",
      " -3.42819090e-13 -5.07786782e-13 -7.63280511e-13 -9.72799590e-13\n",
      "  3.56851780e-14 -2.34437532e-14 -9.40051786e-14 -1.55971940e-13\n",
      " -2.05861822e-13 -2.45728033e-13 -2.76898155e-13 -2.34891925e-12\n",
      " -1.35536657e-11 -1.82013767e-11  5.80633867e-11 -1.68801648e-11\n",
      "  7.26922338e-11  1.00662992e-10 -1.21643420e-11  1.12646019e-11\n",
      "  2.52537775e-11  3.03972025e-11  9.24491951e-13 -6.24087671e-12\n",
      " -4.63770419e-12 -2.64538629e-11  5.61940151e-12 -3.21653292e-13\n",
      " -4.68887661e-12 -7.76416956e-12 -1.13055465e-11 -2.31964941e-11\n",
      "  5.25555613e-13 -7.64315048e-13 -2.54082804e-12 -4.40161105e-12\n",
      " -5.90688591e-12 -8.22619009e-12 -1.03652266e-11  5.77091696e-13\n",
      "  2.33715760e-13 -7.35445770e-13 -1.66351905e-12 -2.34750432e-12\n",
      " -2.47214923e-12 -1.81463635e-12 -2.58739602e-12  2.91063558e-15\n",
      "  1.03703554e-13  5.50772993e-13 -2.01742333e-12  3.89237001e-12\n",
      " -5.69923840e-12  2.11830203e-11 -1.90870469e-11 -1.83596868e-11\n",
      "  2.99476941e-11 -8.30856056e-11  6.69998878e-12  5.91284084e-11\n",
      "  3.53278672e-11 -8.30033290e-11  1.50780742e-11  6.59494524e-11\n",
      "  2.09153229e-11 -5.12489945e-11  1.15411113e-11  7.44513688e-11\n",
      "  4.07843482e-12  2.70076841e-11  5.86520302e-12 -3.95470070e-11\n",
      " -5.85656735e-11 -2.29632186e-11 -1.94838159e-11 -4.58707477e-12\n",
      "  2.72594536e-12 -9.64666803e-12 -2.73393171e-11 -4.37191199e-11\n",
      " -4.44530810e-11 -3.80785535e-11 -1.50157105e-11  6.53355185e-12\n",
      "  1.07687286e-11 -1.14678470e-12 -1.18156103e-11 -1.93155988e-11\n",
      " -2.14716568e-11 -1.04194877e-11  2.47524044e-11  3.56866873e-11\n",
      "  4.25133552e-17  1.10967397e-15 -3.69305310e-15 -6.96120615e-15\n",
      " -6.53347441e-14  5.03110245e-14  4.67917388e-14  5.24499260e-13\n",
      "  5.12612862e-13 -3.66709562e-13 -9.27319098e-13 -3.13408773e-12\n",
      " -2.43719561e-12 -2.69986885e-12  1.72024557e-12  5.64527040e-12\n",
      "  2.44379626e-11 -3.49747946e-12  1.30434781e-11  9.94108978e-12\n",
      " -5.98768957e-12 -2.04204986e-11 -9.00148911e-11  2.61607624e-11\n",
      " -3.30980395e-11 -3.20300552e-12 -4.28484442e-11  1.95107761e-11\n",
      "  8.25400600e-11  9.31687984e-11  6.47946433e-12  2.82168809e-11\n",
      "  2.66645443e-11 -4.89506962e-11  1.18697823e-10 -4.45747418e-11\n",
      " -1.08719941e-10  6.71580676e-13 -9.22689172e-11 -6.96648610e-11\n",
      "  3.69885166e-11  4.90383738e-11  1.30311961e-11 -1.22884003e-10\n",
      "  5.19325284e-11 -2.07089250e-11  1.32603968e-10  6.08488909e-12\n",
      " -5.24665593e-11 -1.84303450e-11  3.76312078e-11  2.73408103e-11\n",
      " -3.42733820e-11  4.25982908e-11 -1.97294923e-11 -1.43448515e-19\n",
      " -1.90120345e-18  7.71615733e-18 -4.86822206e-17  1.23606558e-16\n",
      " -1.14778613e-16  8.78404941e-16  5.83782503e-16 -1.37157928e-15\n",
      "  1.00330961e-15 -7.01215556e-15 -1.30512745e-14 -9.39237531e-15\n",
      "  1.30049901e-14 -7.02243586e-15  7.64437490e-14 -2.48360043e-14\n",
      "  2.72643503e-13 -5.75249302e-14 -5.86849713e-14  3.87440070e-14\n",
      " -6.38132924e-13  9.14245463e-13 -1.95802896e-12 -2.49698425e-14\n",
      "  2.83486352e-13  1.27597019e-13 -1.39844893e-13  2.87635533e-12\n",
      " -5.04293263e-12  7.02214422e-12  8.60128349e-13 -1.86650418e-13\n",
      " -1.40493397e-12  4.46323795e-13  1.81345701e-13 -6.66956969e-12\n",
      "  1.27366968e-11 -1.63675234e-11  2.95703032e-12 -5.20986253e-12\n",
      "  2.84398441e-12  3.55000411e-12 -2.91534672e-12  3.31228791e-13\n",
      "  5.74400113e-12 -1.38422219e-11  3.01807933e-11 -3.68990862e-11\n",
      "  4.34189872e-11 -2.31303116e-11  2.99821744e-12 -3.27549840e-12\n",
      "  4.02430944e-12 -9.57624839e-13  6.52263479e-13 -4.58168934e-12\n",
      "  2.73352941e-12 -1.76577124e-12  1.09081052e-11 -3.04650068e-11\n",
      "  2.87174650e-11 -1.09800811e-11  2.42165391e-12 -1.33640447e-12\n",
      "  4.36154149e-13] 6.039815573127413\n"
     ]
    }
   ],
   "source": [
    "poly_features2 = PolynomialFeatures(degree=10, include_bias=False)\n",
    "poly_features2.fit(X2)\n",
    "X_poly2 = poly_features2.transform(X2)\n",
    "\n",
    "model_pr2 = LinearRegression()\n",
    "model_pr2.fit(X_poly2, y2)\n",
    "print(model_pr2.coef_, model_pr2.intercept_)"
   ]
  },
  {
   "cell_type": "markdown",
   "metadata": {},
   "source": [
    "**MSE on data1**"
   ]
  },
  {
   "cell_type": "code",
   "execution_count": 35,
   "metadata": {},
   "outputs": [
    {
     "name": "stdout",
     "output_type": "stream",
     "text": [
      "MSE: 0.035419562516923415\n"
     ]
    }
   ],
   "source": [
    "predictions2 = model_pr2.predict(X_poly2)\n",
    "mse2 = mean_squared_error(y2, predictions2)\n",
    "print(\"MSE:\", mse2)"
   ]
  },
  {
   "cell_type": "markdown",
   "metadata": {},
   "source": [
    "**4. Train polynomial regression model with degree = 1, 2, 5, 10 on `data1` and `data3`, calculate the MSE on `data2`.**"
   ]
  },
  {
   "cell_type": "code",
   "execution_count": 36,
   "metadata": {},
   "outputs": [],
   "source": [
    "data1_data3 = pd.concat([data1, data3], ignore_index=True, sort =False)"
   ]
  },
  {
   "cell_type": "code",
   "execution_count": 37,
   "metadata": {},
   "outputs": [
    {
     "data": {
      "text/html": [
       "<div>\n",
       "<style scoped>\n",
       "    .dataframe tbody tr th:only-of-type {\n",
       "        vertical-align: middle;\n",
       "    }\n",
       "\n",
       "    .dataframe tbody tr th {\n",
       "        vertical-align: top;\n",
       "    }\n",
       "\n",
       "    .dataframe thead th {\n",
       "        text-align: right;\n",
       "    }\n",
       "</style>\n",
       "<table border=\"1\" class=\"dataframe\">\n",
       "  <thead>\n",
       "    <tr style=\"text-align: right;\">\n",
       "      <th></th>\n",
       "      <th>TV</th>\n",
       "      <th>radio</th>\n",
       "      <th>newspaper</th>\n",
       "      <th>sales</th>\n",
       "    </tr>\n",
       "  </thead>\n",
       "  <tbody>\n",
       "    <tr>\n",
       "      <th>0</th>\n",
       "      <td>53.5</td>\n",
       "      <td>2.0</td>\n",
       "      <td>21.4</td>\n",
       "      <td>8.1</td>\n",
       "    </tr>\n",
       "    <tr>\n",
       "      <th>1</th>\n",
       "      <td>4.1</td>\n",
       "      <td>11.6</td>\n",
       "      <td>5.7</td>\n",
       "      <td>3.2</td>\n",
       "    </tr>\n",
       "    <tr>\n",
       "      <th>2</th>\n",
       "      <td>5.4</td>\n",
       "      <td>29.9</td>\n",
       "      <td>9.4</td>\n",
       "      <td>5.3</td>\n",
       "    </tr>\n",
       "    <tr>\n",
       "      <th>3</th>\n",
       "      <td>228.0</td>\n",
       "      <td>37.7</td>\n",
       "      <td>32.0</td>\n",
       "      <td>21.5</td>\n",
       "    </tr>\n",
       "    <tr>\n",
       "      <th>4</th>\n",
       "      <td>95.7</td>\n",
       "      <td>1.4</td>\n",
       "      <td>7.4</td>\n",
       "      <td>9.5</td>\n",
       "    </tr>\n",
       "  </tbody>\n",
       "</table>\n",
       "</div>"
      ],
      "text/plain": [
       "      TV  radio  newspaper  sales\n",
       "0   53.5    2.0       21.4    8.1\n",
       "1    4.1   11.6        5.7    3.2\n",
       "2    5.4   29.9        9.4    5.3\n",
       "3  228.0   37.7       32.0   21.5\n",
       "4   95.7    1.4        7.4    9.5"
      ]
     },
     "execution_count": 37,
     "metadata": {},
     "output_type": "execute_result"
    }
   ],
   "source": [
    "data1_data3.head()"
   ]
  },
  {
   "cell_type": "code",
   "execution_count": 38,
   "metadata": {},
   "outputs": [],
   "source": [
    "X3 = data1_data3.iloc[:,:-1]\n",
    "y3 = data1_data3['sales']"
   ]
  },
  {
   "cell_type": "markdown",
   "metadata": {},
   "source": [
    "**Degree = 1**"
   ]
  },
  {
   "cell_type": "code",
   "execution_count": 39,
   "metadata": {},
   "outputs": [
    {
     "data": {
      "text/plain": [
       "LinearRegression(copy_X=True, fit_intercept=True, n_jobs=None, normalize=False)"
      ]
     },
     "execution_count": 39,
     "metadata": {},
     "output_type": "execute_result"
    }
   ],
   "source": [
    "from sklearn.linear_model import LinearRegression\n",
    "lr3 = LinearRegression()\n",
    "lr3.fit(X3,y3)"
   ]
  },
  {
   "cell_type": "code",
   "execution_count": 40,
   "metadata": {},
   "outputs": [
    {
     "name": "stdout",
     "output_type": "stream",
     "text": [
      "[0.04531157 0.18869275 0.00105879] 2.7985020628900372\n"
     ]
    }
   ],
   "source": [
    "# Fitting Polynomial Regression to the dataset\n",
    "poly_features3 = PolynomialFeatures(degree=1, include_bias=False)\n",
    "poly_features3.fit(X3)\n",
    "X_poly3 = poly_features3.transform(X3)\n",
    "\n",
    "model_pr3 = LinearRegression()\n",
    "model_pr3.fit(X_poly3, y3)\n",
    "print(model_pr3.coef_, model_pr3.intercept_)"
   ]
  },
  {
   "cell_type": "markdown",
   "metadata": {},
   "source": [
    "**Degree = 2**"
   ]
  },
  {
   "cell_type": "code",
   "execution_count": 41,
   "metadata": {},
   "outputs": [
    {
     "name": "stdout",
     "output_type": "stream",
     "text": [
      "[ 5.33875098e-02  1.18010732e-02  7.15308199e-03 -1.15469485e-04\n",
      "  1.12170437e-03 -5.38024707e-05  1.89721560e-04  7.38171222e-05\n",
      "  2.16086174e-05] 5.137723292018846\n"
     ]
    }
   ],
   "source": [
    "poly_features3 = PolynomialFeatures(degree=2, include_bias=False)\n",
    "poly_features3.fit(X3)\n",
    "X_poly3 = poly_features3.transform(X3)\n",
    "\n",
    "model_pr3 = LinearRegression()\n",
    "model_pr3.fit(X_poly3, y3)\n",
    "print(model_pr3.coef_, model_pr3.intercept_)"
   ]
  },
  {
   "cell_type": "markdown",
   "metadata": {},
   "source": [
    "**Degree = 5**"
   ]
  },
  {
   "cell_type": "code",
   "execution_count": 42,
   "metadata": {},
   "outputs": [
    {
     "name": "stdout",
     "output_type": "stream",
     "text": [
      "[ 1.72413989e-01 -4.75467866e-01  7.09555106e-02 -2.16219668e-03\n",
      "  7.25479321e-03 -2.92575943e-03  3.32350642e-02  1.64386476e-02\n",
      " -2.27180282e-03  1.47102605e-05 -4.10946826e-05  2.38737437e-05\n",
      " -2.05619219e-04 -1.00788292e-04  7.55181095e-05 -7.09164498e-04\n",
      " -1.21128572e-03  3.84749636e-05 -4.65642779e-05 -4.87425856e-08\n",
      "  1.84103815e-07 -9.66439769e-08 -6.03216773e-08  7.23861893e-07\n",
      " -4.03626703e-07  4.49444760e-06  1.77273644e-06 -1.51828365e-07\n",
      " -3.82516636e-07  5.99809977e-06  1.75797983e-05  1.63823443e-05\n",
      " -7.54147111e-06  2.36974348e-06  6.09738926e-11 -3.25004551e-10\n",
      "  1.61119090e-10  1.35314802e-09 -1.73564941e-09  6.11217556e-10\n",
      " -9.66115499e-09  4.41380279e-09 -3.37218475e-09  2.12211962e-09\n",
      "  2.04287041e-09 -3.74306966e-08 -1.35669256e-08  1.94126984e-08\n",
      " -5.60648134e-09 -5.72843026e-08 -2.32673529e-08 -1.86921309e-07\n",
      "  1.97653667e-08  1.61074897e-08 -9.43594862e-09] 3.7265230847576074\n"
     ]
    }
   ],
   "source": [
    "poly_features3 = PolynomialFeatures(degree=5, include_bias=False)\n",
    "poly_features3.fit(X3)\n",
    "X_poly3 = poly_features3.transform(X3)\n",
    "\n",
    "model_pr3 = LinearRegression()\n",
    "model_pr3.fit(X_poly3, y3)\n",
    "print(model_pr3.coef_, model_pr3.intercept_)"
   ]
  },
  {
   "cell_type": "markdown",
   "metadata": {},
   "source": [
    "**Degree = 10**"
   ]
  },
  {
   "cell_type": "code",
   "execution_count": 43,
   "metadata": {
    "scrolled": true
   },
   "outputs": [
    {
     "name": "stdout",
     "output_type": "stream",
     "text": [
      "[-5.08007649e-13  1.64981890e-12 -5.06156759e-18 -1.01981213e-12\n",
      "  3.80483174e-13 -1.81142364e-15  7.42383993e-13 -3.92040012e-14\n",
      "  1.12042175e-14  3.05361265e-15  3.91654289e-15 -1.37324465e-15\n",
      "  2.95455180e-14  1.01602769e-14 -6.70975063e-15  5.77080687e-15\n",
      "  3.76012044e-15  8.86990740e-15 -6.05472974e-15  1.91734243e-13\n",
      "  5.49376267e-14  3.02071461e-14  1.56302658e-14  1.46357611e-14\n",
      "  1.53572566e-14  4.68673995e-15  5.64922875e-15  6.94343565e-15\n",
      "  8.25343598e-15  7.49829430e-16  1.67991892e-15  2.78777049e-15\n",
      "  3.25515991e-15  4.90102382e-15  5.91258298e-12  1.76051287e-12\n",
      "  5.52657875e-13  6.13576528e-13  4.36720677e-13  3.48420594e-13\n",
      "  1.75252333e-13  1.89370539e-13  2.24641698e-13  1.92997509e-13\n",
      "  5.26517442e-14  6.37136829e-14  8.51042166e-14  1.04238129e-13\n",
      "  1.17164204e-13  1.45499833e-14  2.16427772e-14  3.03855115e-14\n",
      "  4.02287588e-14  4.94435186e-14  7.61214444e-14  1.06122310e-10\n",
      "  3.46322361e-11 -6.11876790e-13  1.78147205e-11  6.61008391e-12\n",
      "  4.37354045e-12  5.32737245e-12  4.88139704e-12  5.38102861e-12\n",
      "  2.63658048e-12  1.59006159e-12  1.73890818e-12  2.34757503e-12\n",
      "  2.72565936e-12  1.90407112e-12  5.85744957e-13  6.38710583e-13\n",
      "  8.22000718e-13  1.07086076e-12  1.25299250e-12  1.38186012e-12\n",
      "  2.34507987e-13  2.74017107e-13  3.40936820e-13  4.28925807e-13\n",
      "  5.24207826e-13  5.89236682e-13  9.87888791e-13  9.11351211e-13\n",
      " -4.98463659e-11 -2.11721612e-11  3.05413259e-10 -6.73151799e-11\n",
      "  5.71285281e-11  1.03656607e-10  6.87966718e-11  6.98579017e-11\n",
      "  3.69821815e-12  2.93858674e-11  2.82590689e-11  4.17778603e-11\n",
      "  4.56067436e-11  8.70947997e-12  1.13116593e-11  1.03702644e-11\n",
      "  1.41180229e-11  1.94284595e-11  2.19917855e-11  1.22104108e-11\n",
      "  6.10286381e-12  5.34952463e-12  5.78739815e-12  7.06760972e-12\n",
      "  8.64048633e-12  9.14692921e-12  1.12301542e-11  3.48108297e-12\n",
      "  3.21272948e-12  3.36667552e-12  3.71180292e-12  4.13313455e-12\n",
      "  4.34305777e-12  3.61406956e-12  8.73549414e-12 -4.13006037e-14\n",
      "  1.21946865e-12  3.92999272e-13 -1.25590990e-11  2.08305512e-12\n",
      " -2.13554595e-12  4.53387227e-11  7.98719705e-12 -1.58757868e-11\n",
      "  8.38349414e-12 -1.01007223e-10 -5.02360727e-11  7.28358084e-11\n",
      " -1.31977323e-11 -1.05099382e-11 -1.38394835e-11 -4.75496519e-11\n",
      " -2.06616130e-11  1.85788757e-12  2.00954145e-11 -7.11269507e-12\n",
      "  4.23471570e-11  5.36671505e-12 -6.33174047e-12 -8.01208029e-12\n",
      " -8.82067527e-12 -4.32411093e-12  1.86731339e-11  4.74486007e-11\n",
      "  2.95052782e-11  1.80936093e-11  1.00062903e-11  5.71160478e-13\n",
      " -9.57478297e-12 -2.79787341e-11  2.10503306e-11  3.69995987e-11\n",
      "  2.74241877e-11  2.41160249e-11  2.10543974e-11  1.61685263e-11\n",
      "  9.07935362e-12 -3.29474058e-12 -3.60890114e-11  1.07592530e-11\n",
      "  2.59520736e-16 -8.70875802e-15 -8.86200269e-16  1.16074757e-13\n",
      "  1.45066438e-15 -2.27392978e-14 -7.21278955e-13 -3.91238982e-13\n",
      "  1.00171163e-13  3.84801458e-13  3.53215405e-12  1.51386395e-12\n",
      "  2.94699370e-12 -1.54709121e-12 -2.53005832e-12 -1.04222080e-11\n",
      " -3.85216392e-12 -4.39448447e-12 -1.97660319e-11  1.38171705e-11\n",
      "  7.74132065e-12  1.24453885e-11  2.18372164e-11 -3.22349290e-11\n",
      "  5.96123401e-11  2.34149235e-11 -3.20108056e-11 -1.29661594e-11\n",
      "  2.19039315e-11 -3.32801154e-11  9.04510955e-12  2.72186603e-11\n",
      " -4.38705704e-11 -4.39851422e-11  3.23827835e-11  1.21982424e-11\n",
      " -3.33419502e-11 -1.19509177e-11  2.07861915e-11  3.53286319e-11\n",
      " -2.35378047e-11 -6.64766753e-11  3.93582702e-11  2.21083823e-11\n",
      " -1.39130802e-11  7.63175560e-12 -3.06902248e-11  1.06854912e-11\n",
      "  3.32256411e-11  1.14591787e-11 -2.73298688e-11 -1.03588632e-11\n",
      "  9.04928686e-11 -7.32658640e-11  1.41664119e-11 -4.16493060e-19\n",
      "  1.62400574e-17 -2.92819385e-18 -2.73956945e-16  7.24263275e-17\n",
      "  1.27444216e-16  2.87315426e-15  2.37149681e-17 -1.80855537e-15\n",
      " -1.33426460e-15 -2.49636335e-14 -7.54450887e-15  1.85079591e-14\n",
      "  1.32246049e-14  5.22170682e-15  1.32501109e-13  1.48076211e-13\n",
      " -1.41276293e-13 -1.35148196e-13 -3.07841014e-14 -4.89186998e-16\n",
      " -4.27635017e-13 -7.96065339e-13 -1.05232067e-13  1.18060963e-12\n",
      "  4.00580655e-13 -1.26309995e-13 -4.16719321e-14  9.45884387e-13\n",
      "  1.38901208e-12  2.29034999e-12 -7.12955576e-13 -5.38333220e-12\n",
      "  9.64074184e-13  3.42009688e-13  1.24070523e-13 -1.66414558e-12\n",
      "  9.96415013e-14 -6.56063469e-12  3.96856701e-12 -5.18709991e-12\n",
      "  1.47146560e-11 -6.23858260e-12  5.26600413e-13 -2.32435196e-13\n",
      "  1.41001830e-12 -4.53478616e-12  3.04738176e-11 -6.89175969e-11\n",
      "  8.15166764e-11 -4.70170732e-11  4.41418849e-12  5.20590148e-12\n",
      " -2.11478601e-12  4.43813974e-13 -4.10714282e-13  3.55754875e-12\n",
      " -1.25113676e-11  1.37104852e-11  6.82563373e-12 -2.05357123e-11\n",
      "  6.20716623e-12  7.90873796e-12 -7.70894585e-12  3.11180427e-12\n",
      " -5.00243366e-13] 5.176079056678075\n"
     ]
    }
   ],
   "source": [
    "poly_features3 = PolynomialFeatures(degree=10, include_bias=False)\n",
    "poly_features3.fit(X3)\n",
    "X_poly3 = poly_features3.transform(X3)\n",
    "\n",
    "model_pr3 = LinearRegression()\n",
    "model_pr3.fit(X_poly3, y3)\n",
    "print(model_pr3.coef_, model_pr3.intercept_)"
   ]
  },
  {
   "cell_type": "markdown",
   "metadata": {},
   "source": [
    "**MSE on data2**"
   ]
  },
  {
   "cell_type": "code",
   "execution_count": 44,
   "metadata": {},
   "outputs": [
    {
     "name": "stdout",
     "output_type": "stream",
     "text": [
      "MSE: 0.4926178740333943\n"
     ]
    }
   ],
   "source": [
    "predictions3 = model_pr3.predict(X_poly3)\n",
    "mse3 = mean_squared_error(y3, predictions3)\n",
    "print(\"MSE:\", mse3)"
   ]
  },
  {
   "cell_type": "markdown",
   "metadata": {},
   "source": [
    "**4. Compare the average mse value of the models. Which model has the lowest average MSE?**"
   ]
  },
  {
   "cell_type": "code",
   "execution_count": 47,
   "metadata": {},
   "outputs": [
    {
     "name": "stdout",
     "output_type": "stream",
     "text": [
      "Model 1: 1.859378814961709\n",
      "Model 2: 0.035419562516923415\n",
      "Model 3: 0.4926178740333943\n"
     ]
    }
   ],
   "source": [
    "# Average MSE\n",
    "print(\"Model 1:\" , mse.mean())\n",
    "print(\"Model 2:\" , mse2.mean())\n",
    "print(\"Model 3:\" , mse3.mean())"
   ]
  },
  {
   "cell_type": "markdown",
   "metadata": {},
   "source": [
    "In conclusion, the model with the lowest average MSE is the model with `data1` which is the second model that was trained."
   ]
  }
 ],
 "metadata": {
  "kernelspec": {
   "display_name": "Python 3",
   "language": "python",
   "name": "python3"
  },
  "language_info": {
   "codemirror_mode": {
    "name": "ipython",
    "version": 3
   },
   "file_extension": ".py",
   "mimetype": "text/x-python",
   "name": "python",
   "nbconvert_exporter": "python",
   "pygments_lexer": "ipython3",
   "version": "3.7.3"
  }
 },
 "nbformat": 4,
 "nbformat_minor": 2
}
