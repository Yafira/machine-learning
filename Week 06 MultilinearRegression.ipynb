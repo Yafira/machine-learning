{
 "cells": [
  {
   "cell_type": "markdown",
   "metadata": {},
   "source": [
    "# Week 6\n",
    "# Multilinear Regression\n",
    "\n",
    "**Reference: Chapter 4**\n",
    "\n",
    "Last time we looked at a simple linear regression model $sales = \\beta_0 + \\beta_1\\cdot\\textit{TV advertising budget}$. More generally, a linear model makes a prediction by computing a weighted sum of their input features (plus a constant)."
   ]
  },
  {
   "cell_type": "markdown",
   "metadata": {},
   "source": [
    "## Multilinear Regression: Model Assumptions\n",
    "**Model**:\n",
    "\n",
    "$\\hat{y} = \\theta_0 + \\theta_1x_1 + \\theta_2x_2 +\\cdots + \\theta_nx_n$\n",
    "1. $\\hat{y}$ is the predicted value.\n",
    "2. $n$ is the number of features.\n",
    "3. $x_i$ is the i-th feature value.\n",
    "4. $\\theta_j$ is the j-th model parameter (associated with $x_j$).\n",
    "\n",
    "**Vectorized form**:\n",
    "\n",
    "**$\\hat{y} = \\textbf{x}\\cdot\\theta^T$**.\n",
    "1. $\\theta = (\\theta_0, \\theta_1, ..., \\theta_n)$ is the paramter vector.\n",
    "2. $\\textbf{x} = (1, x_1, ..., x_n)$ is the feature vector.\n",
    "\n",
    "**MSE (mean squared error) Cost function**:\n",
    "\n",
    "$J = \\frac{1}{m}\\sum_{i=1}^{m}\\big(\\textbf{x}^{(i)}\\cdot\\theta^T - y^{(i)}\\big)^2$\n",
    "\n",
    "Here $(\\textbf{x}^{(i)}, y^{(i)})$ represents the i-th training example\n"
   ]
  },
  {
   "cell_type": "code",
   "execution_count": 1,
   "metadata": {},
   "outputs": [],
   "source": [
    "import numpy as np\n",
    "import pandas as pd\n",
    "import matplotlib.pyplot as plt\n",
    "%matplotlib inline"
   ]
  },
  {
   "cell_type": "code",
   "execution_count": 2,
   "metadata": {},
   "outputs": [
    {
     "data": {
      "text/html": [
       "<div>\n",
       "<style scoped>\n",
       "    .dataframe tbody tr th:only-of-type {\n",
       "        vertical-align: middle;\n",
       "    }\n",
       "\n",
       "    .dataframe tbody tr th {\n",
       "        vertical-align: top;\n",
       "    }\n",
       "\n",
       "    .dataframe thead th {\n",
       "        text-align: right;\n",
       "    }\n",
       "</style>\n",
       "<table border=\"1\" class=\"dataframe\">\n",
       "  <thead>\n",
       "    <tr style=\"text-align: right;\">\n",
       "      <th></th>\n",
       "      <th>Homework</th>\n",
       "      <th>Midterm</th>\n",
       "      <th>Final</th>\n",
       "    </tr>\n",
       "  </thead>\n",
       "  <tbody>\n",
       "    <tr>\n",
       "      <th>Alice</th>\n",
       "      <td>95</td>\n",
       "      <td>90</td>\n",
       "      <td>93</td>\n",
       "    </tr>\n",
       "    <tr>\n",
       "      <th>Bob</th>\n",
       "      <td>70</td>\n",
       "      <td>60</td>\n",
       "      <td>66</td>\n",
       "    </tr>\n",
       "    <tr>\n",
       "      <th>Clare</th>\n",
       "      <td>80</td>\n",
       "      <td>80</td>\n",
       "      <td>85</td>\n",
       "    </tr>\n",
       "    <tr>\n",
       "      <th>David</th>\n",
       "      <td>100</td>\n",
       "      <td>80</td>\n",
       "      <td>60</td>\n",
       "    </tr>\n",
       "    <tr>\n",
       "      <th>Eve</th>\n",
       "      <td>70</td>\n",
       "      <td>85</td>\n",
       "      <td>90</td>\n",
       "    </tr>\n",
       "  </tbody>\n",
       "</table>\n",
       "</div>"
      ],
      "text/plain": [
       "       Homework  Midterm  Final\n",
       "Alice        95       90     93\n",
       "Bob          70       60     66\n",
       "Clare        80       80     85\n",
       "David       100       80     60\n",
       "Eve          70       85     90"
      ]
     },
     "execution_count": 2,
     "metadata": {},
     "output_type": "execute_result"
    }
   ],
   "source": [
    "# Toy example\n",
    "columns = ['Homework', 'Midterm', 'Final']\n",
    "data = pd.DataFrame({\n",
    "    \"Homework\": [95, 70, 80, 100, 70],\n",
    "    \"Midterm\": [90, 60, 80, 80, 85],\n",
    "    \"Final\": [93, 66, 85, 60, 90]\n",
    "}, index=[\"Alice\", \"Bob\", \"Clare\", \"David\", \"Eve\"])\n",
    "\n",
    "data.head()"
   ]
  },
  {
   "cell_type": "markdown",
   "metadata": {},
   "source": [
    "In this case:\n",
    "- $x_1$ is the homework feature\n",
    "- $x_2$ is the midterm feature\n",
    "- $y$ is the final feature\n",
    "- model is: $final = \\theta_0 + \\theta_1 * homework + \\theta_2 * midterm$\n",
    "- We need to come up with values for $\\theta_0, \\theta_1, \\theta_2$ to complete the model.\n",
    "\n",
    "**Objective**: Suppose that another student Fred has Homework score 85 and Midterm score 80. What is prediction of his final exam score?"
   ]
  },
  {
   "cell_type": "markdown",
   "metadata": {},
   "source": [
    "## Trial and Error\n",
    "Before studying the algorithms that give the best fit, let's see how well we can learn the model ourselves. Let's take the following approach:\n",
    "\n",
    "1. Calculate the correlation coefficients of variable pair (Homework, Final) and (Midterm, Final)\n",
    "2. Distribute weight to homework and final proportional to their correlation coefficients. For example, if the value are the same for both pairs, then both the term homework and midterm should have parameter value 0.5.\n",
    "3. Calculate the value of $\\theta_0$ so that Alice's data fits the model exactly."
   ]
  },
  {
   "cell_type": "code",
   "execution_count": 3,
   "metadata": {},
   "outputs": [
    {
     "name": "stdout",
     "output_type": "stream",
     "text": [
      "-0.1771490677357476\n",
      "0.6700743886411277\n"
     ]
    }
   ],
   "source": [
    "# Calculate the correlation coefficient between homework and final using np.corrcoef()\n",
    "print(np.corrcoef(data['Homework'], data['Final'])[0, 1])\n",
    "\n",
    "# Calculate the correlation coefficient between midterm and final\n",
    "print(np.corrcoef(data['Midterm'], data['Final'])[0, 1])"
   ]
  },
  {
   "cell_type": "code",
   "execution_count": 4,
   "metadata": {},
   "outputs": [],
   "source": [
    "# Distribute weight to homework and midterm according to their correlation coefficients.\n",
    "theta1 = 0.2\n",
    "theta2 = 0.8"
   ]
  },
  {
   "cell_type": "markdown",
   "metadata": {},
   "source": [
    "We have chosen values for $\\theta_1$ and $\\theta_2$, now we need a value for $\\theta_0$."
   ]
  },
  {
   "cell_type": "code",
   "execution_count": 5,
   "metadata": {},
   "outputs": [
    {
     "name": "stdout",
     "output_type": "stream",
     "text": [
      "2.0\n"
     ]
    }
   ],
   "source": [
    "# Solve for theta0 so that if homework=95 and midterm=90, final=93.\n",
    "theta0 = 93 - 0.2 * 95 - 0.8 * 90\n",
    "print(theta0)"
   ]
  },
  {
   "cell_type": "markdown",
   "metadata": {},
   "source": [
    "Our guess of the model: $final = 2 + 0.2\\times homework + 0.8\\times midterm$."
   ]
  },
  {
   "cell_type": "markdown",
   "metadata": {},
   "source": [
    "Now, let's calculate the average error the model makes on the data."
   ]
  },
  {
   "cell_type": "code",
   "execution_count": 6,
   "metadata": {},
   "outputs": [
    {
     "name": "stdout",
     "output_type": "stream",
     "text": [
      "[95 90]\n",
      "[93]\n",
      "[2.  0.2 0.8]\n",
      "Squared error for Alice: [0.]\n"
     ]
    }
   ],
   "source": [
    "# Calculate the MSE (mean-squared-error)\n",
    "\n",
    "# 1. calculate the squared error for the first instance\n",
    "# x1 = np.array([95, 90])\n",
    "x1 = data.loc[\"Alice\", ['Homework', \"Midterm\"]].values\n",
    "print(x1)\n",
    "# y1 = np.array([93])\n",
    "y1 = data.loc[\"Alice\", ['Final']].values\n",
    "print(y1)\n",
    "theta = np.array([2.0, 0.2, 0.8])\n",
    "print(theta)\n",
    "prediction = 2.0 + 0.2 * x1[0] + 0.8 * x1[1]\n",
    "squared_error = (prediction - y1) ** 2\n",
    "print(\"Squared error for Alice:\", squared_error)"
   ]
  },
  {
   "cell_type": "code",
   "execution_count": 7,
   "metadata": {},
   "outputs": [
    {
     "data": {
      "text/plain": [
       "array([4.])"
      ]
     },
     "execution_count": 7,
     "metadata": {},
     "output_type": "execute_result"
    }
   ],
   "source": [
    "# 2. define a function that returns the error of a given instance.\n",
    "def get_squared_error(data, name, theta):\n",
    "    # Extract x and y from data\n",
    "    x = data.loc[name, ['Homework', 'Midterm']].values\n",
    "    y = data.loc[name, ['Final']].values\n",
    "    # calculate prediction\n",
    "#     prediction = 2.0 + 0.2*x[0]+0.8*x[1]\n",
    "    prediction = theta[0] + theta[1]*x[0] + theta[2]*x[1]\n",
    "    # calculate the squared error\n",
    "    squared_error = (prediction - y)**2\n",
    "    return squared_error\n",
    "\n",
    "get_squared_error(data, \"Bob\", theta)"
   ]
  },
  {
   "cell_type": "code",
   "execution_count": 8,
   "metadata": {},
   "outputs": [
    {
     "name": "stdout",
     "output_type": "stream",
     "text": [
      "[array([0.]), array([4.]), array([9.]), array([676.]), array([36.])]\n",
      "MSE: 145.0\n",
      "Root mean squared error (RMSE): 12.041594578792296\n"
     ]
    }
   ],
   "source": [
    "# 3. calculate all errors\n",
    "all_errors = [get_squared_error(data,name,theta) for name in data.index]\n",
    "print(all_errors)\n",
    "\n",
    "# 4. calculate the average.\n",
    "mse = np.mean(all_errors)\n",
    "print(\"MSE:\", mse)\n",
    "print(\"Root mean squared error (RMSE):\", np.sqrt(mse))"
   ]
  },
  {
   "cell_type": "markdown",
   "metadata": {},
   "source": [
    "## Multilinear Regression: Normal Equation\n",
    "The value of $\\theta$ that minimizes the cost function is:\n",
    "\n",
    "$\\hat{\\theta} = \\big(\\textbf{X}^T\\cdot\\textbf{X}\\big)^{-1}\\cdot\\textbf{X}^T\\cdot\\textbf{y}$.\n",
    "\n",
    "1. $\\textbf{X}$ is an $m\\times (n+1)$ matrix whose i-th row is $\\textbf{x}^{(i)}$.\n",
    "$$\\textbf{X} = \\begin{pmatrix}\n",
    "1 & x^{(1)}_1 & x^{(1)}_2 & \\cdots & x^{(1)}_n \\\\\n",
    "1 & x^{(2)}_1 & x^{(2)}_2 & \\cdots & x^{(2)}_n \\\\\n",
    "\\vdots & \\vdots &\\vdots & \\ddots & \\vdots \\\\\n",
    "1 & x^{(m)}_1 & x^{(m)}_2 & \\cdots & x^{(m)}_n \\\\\n",
    "\\end{pmatrix}$$\n",
    "2. $$\\textbf{y} = \\begin{pmatrix}y^{(1)} \\\\ \\vdots \\\\ y^{(m)}\\end{pmatrix}$$.\n",
    "3. The cost function $J(\\theta)$ also has a matrix expression\n",
    "$$J(\\theta) = \\frac{1}{m}(\\textbf{X}^T\\cdot\\theta - \\textbf{y})^T\\cdot (\\textbf{X}^T\\cdot\\theta - \\textbf{y})$$"
   ]
  },
  {
   "cell_type": "code",
   "execution_count": 9,
   "metadata": {},
   "outputs": [
    {
     "name": "stdout",
     "output_type": "stream",
     "text": [
      "[[  1.  95.  90.]\n",
      " [  1.  70.  60.]\n",
      " [  1.  80.  80.]\n",
      " [  1. 100.  80.]\n",
      " [  1.  70.  85.]]\n"
     ]
    }
   ],
   "source": [
    "# Construct matrix X using np.hstack(), np.ones()\n",
    "m, n = data.shape\n",
    "X = np.hstack([np.ones([m, 1]), data[['Homework', 'Midterm']].values])\n",
    "print(X)"
   ]
  },
  {
   "cell_type": "code",
   "execution_count": 10,
   "metadata": {},
   "outputs": [
    {
     "name": "stdout",
     "output_type": "stream",
     "text": [
      "[[93]\n",
      " [66]\n",
      " [85]\n",
      " [60]\n",
      " [90]]\n"
     ]
    }
   ],
   "source": [
    "# Construct vector y\n",
    "y = data[['Final']].values\n",
    "print(y)"
   ]
  },
  {
   "cell_type": "code",
   "execution_count": 11,
   "metadata": {},
   "outputs": [
    {
     "name": "stdout",
     "output_type": "stream",
     "text": [
      "[[35.        ]\n",
      " [-0.71627907]\n",
      " [ 1.30697674]]\n"
     ]
    }
   ],
   "source": [
    "# Apply the normal equation to find theta\n",
    "num = X.T.dot(X)\n",
    "theta_opt = np.linalg.inv(num).dot(X.T.dot(y))\n",
    "print(theta_opt)"
   ]
  },
  {
   "cell_type": "code",
   "execution_count": 12,
   "metadata": {},
   "outputs": [
    {
     "name": "stdout",
     "output_type": "stream",
     "text": [
      "MSE: 36.82790697674422\n",
      "RMSE: 6.068600083770903\n"
     ]
    }
   ],
   "source": [
    "# Find the MSE of the optimal model\n",
    "all_errors = [get_squared_error(data, name, theta_opt) for name in data.index]\n",
    "mse = np.mean(all_errors) # mean squared error\n",
    "rmse = np.sqrt(mse) # root mean squared error\n",
    "print(\"MSE:\", mse)\n",
    "print(\"RMSE:\", rmse)"
   ]
  },
  {
   "cell_type": "markdown",
   "metadata": {},
   "source": [
    "## Multilinear Regression: Gradient Descent\n",
    "The normal equation is not applicable when $\\textbf{X}^T\\cdot\\textbf{X}$ is not invertible. It happens if:\n",
    "- Several features are linearly dependent (for example, feature3 = feature1 + feature2)\n",
    "- The number of features is greater than the number of training data (for example, DNA data)\n",
    "\n",
    "In this case, we can use the **gradient descent** method to minimize the cost function.\n",
    "\n",
    "Gradient descent is an iterative algorithm for finding the **local minimum** of a differentiable function.\n",
    "- Choose an initial value of $\\hat{\\theta}$ and a **learning rate** $r$.\n",
    "- For each iteration $k$, do:\n",
    "$$\\hat{\\theta} \\leftarrow \\hat{\\theta} - r\\cdot\\frac{\\partial J(\\hat{\\theta})}{\\partial \\theta}.$$\n",
    "- The partial derivative of the cost function is given by\n",
    "$$\n",
    "\\frac{\\partial J(\\hat{\\theta})}{\\partial \\theta} = \\frac{2}{m}\\cdot\\textbf{X}^T\\cdot(\\textbf{X}\\cdot\\theta - \\textbf{y}).\n",
    "$$\n",
    "- **Verify the formula of partial derivative asuuming there is one input feature.**\n",
    "\n",
    "- End iteration if certain stop criteria is reached, such as:\n",
    "    - Value of $\\hat{\\theta}$ becomes stable.\n",
    "    - Certain iteration amount is reached."
   ]
  },
  {
   "cell_type": "code",
   "execution_count": 13,
   "metadata": {},
   "outputs": [
    {
     "name": "stdout",
     "output_type": "stream",
     "text": [
      "[[ 36.30348109]\n",
      " [-69.95455806]\n",
      " [127.2982388 ]]\n"
     ]
    }
   ],
   "source": [
    "# Choose a random initial value\n",
    "m, n = data.shape\n",
    "theta_hat = np.random.rand(n, 1)\n",
    "# print(theta_hat)\n",
    "\n",
    "# # normalize the input values so that numbers are between 0 and 1.\n",
    "X2 = np.hstack([np.ones([m, 1]), data[['Homework', 'Midterm']].values/100])\n",
    "y2 = y\n",
    "# print(X2)\n",
    "\n",
    "num_iter = 6000\n",
    "r = 0.05\n",
    "\n",
    "MSEs = []\n",
    "for iter in range(num_iter):\n",
    "    # Calculate the gradient\n",
    "    gradient = (X2.T).dot(X2.dot(theta_hat)-y2)*2/m\n",
    "                          \n",
    "    # Update the parameters\n",
    "    theta_hat -=  r * gradient\n",
    "    \n",
    "    # Calculate the MSE\n",
    "    MSE = 1/m * (X2.dot(theta_hat) - y2).T.dot(X2.dot(theta_hat) - y2)\n",
    "    \n",
    "    # Append the MSE to the list MSEs\n",
    "    MSEs.append(MSE[0, 0])\n",
    "    \n",
    "print(theta_hat)"
   ]
  },
  {
   "cell_type": "code",
   "execution_count": 14,
   "metadata": {},
   "outputs": [
    {
     "data": {
      "text/plain": [
       "array([[36.92014453]])"
      ]
     },
     "execution_count": 14,
     "metadata": {},
     "output_type": "execute_result"
    }
   ],
   "source": [
    "MSE"
   ]
  },
  {
   "cell_type": "code",
   "execution_count": 15,
   "metadata": {},
   "outputs": [
    {
     "data": {
      "text/plain": [
       "(0, 200)"
      ]
     },
     "execution_count": 15,
     "metadata": {},
     "output_type": "execute_result"
    },
    {
     "data": {
      "image/png": "[encoded data removed]",
      "text/plain": [
       "<Figure size 432x288 with 1 Axes>"
      ]
     },
     "metadata": {
      "needs_background": "light"
     },
     "output_type": "display_data"
    }
   ],
   "source": [
    "plt.plot(range(num_iter), MSEs)\n",
    "plt.ylim(0, 200)"
   ]
  },
  {
   "cell_type": "markdown",
   "metadata": {},
   "source": [
    "**Discussion**\n",
    "1. Change $r$ to 0.000001 and 1. Observe the MSE curve.\n",
    "2. Does the initial point matter?\n",
    "3. How to determine when to stop the iteration?"
   ]
  },
  {
   "cell_type": "markdown",
   "metadata": {},
   "source": [
    "### Multilinear Regression via `sklearn.linear_model.LinearRegression`\n",
    "- fit(): train the model\n",
    "- predict(): make predictions\n",
    "- coef_: variable coefficients\n",
    "- intercept_: model intercept"
   ]
  },
  {
   "cell_type": "code",
   "execution_count": 16,
   "metadata": {},
   "outputs": [
    {
     "data": {
      "text/plain": [
       "LinearRegression(copy_X=True, fit_intercept=True, n_jobs=None, normalize=False)"
      ]
     },
     "execution_count": 16,
     "metadata": {},
     "output_type": "execute_result"
    }
   ],
   "source": [
    "# Build a linear regression model using LinearRegression from sklearn.linear_model\n",
    "from sklearn.linear_model import LinearRegression\n",
    "model_lr = LinearRegression()\n",
    "model_lr.fit(data[['Homework', 'Midterm']], data['Final'])"
   ]
  },
  {
   "cell_type": "code",
   "execution_count": 17,
   "metadata": {},
   "outputs": [
    {
     "data": {
      "text/plain": [
       "(35.00000000000004, array([-0.71627907,  1.30697674]))"
      ]
     },
     "execution_count": 17,
     "metadata": {},
     "output_type": "execute_result"
    }
   ],
   "source": [
    "# Show the parameter values\n",
    "model_lr.intercept_, model_lr.coef_"
   ]
  },
  {
   "cell_type": "markdown",
   "metadata": {},
   "source": [
    "# Homework\n",
    "\n",
    "Apply multilinear regression model on the advertising data used in the previous notebook. Train the model in two ways:\n",
    "\n",
    "1. Use `LinearRegression` class from `sklearn.linear_model`.\n",
    "2. Use the normal equation.\n",
    "\n",
    "Split the data into 80% training data and 20% test data. Show the paramter values and the MSEs on the training set and the test set (Hint: use either the formula given in class today or use `mean_squared_error` function from `sklearn.metrics`)"
   ]
  }
 ],
 "metadata": {
  "kernelspec": {
   "display_name": "Python 3",
   "language": "python",
   "name": "python3"
  },
  "language_info": {
   "codemirror_mode": {
    "name": "ipython",
    "version": 3
   },
   "file_extension": ".py",
   "mimetype": "text/x-python",
   "name": "python",
   "nbconvert_exporter": "python",
   "pygments_lexer": "ipython3",
   "version": "3.7.3"
  }
 },
 "nbformat": 4,
 "nbformat_minor": 2
}
