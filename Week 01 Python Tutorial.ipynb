{
 "cells": [
  {
   "cell_type": "markdown",
   "metadata": {
    "colab_type": "text",
    "id": "wY8eYMoyCHrm"
   },
   "source": [
    "# CMP 414 & 765\n",
    "# Artificial Intelligence with Machine Learning\n",
    "\n",
    "- Important Links\n",
    "- Python Tutorial"
   ]
  },
  {
   "cell_type": "markdown",
   "metadata": {
    "colab_type": "text",
    "id": "0Uu0-9HUSq1o"
   },
   "source": [
    "## Important Links\n",
    "- [Blackboard](http://www.lehman.edu/logins/)\n",
    "- [Course Github Repository](https://github.com/ch00226855/CMP414-765_Spring2020)\n",
    "- [Slides](https://github.com/ch00226855/CMP414-765_Spring2020/blob/master/IntroSpring2020.pptx)\n",
    "- [Anaconda Distribution for Python](https://www.anaconda.com/distribution/)"
   ]
  },
  {
   "cell_type": "markdown",
   "metadata": {
    "colab_type": "text",
    "id": "s_E3iNYwStz3"
   },
   "source": [
    "## Python Tutorial"
   ]
  },
  {
   "cell_type": "markdown",
   "metadata": {
    "colab_type": "text",
    "id": "FkI0kyPkuuIx"
   },
   "source": [
    "### 1. Hello World"
   ]
  },
  {
   "cell_type": "code",
   "execution_count": 0,
   "metadata": {
    "colab": {
     "base_uri": "https://localhost:8080/",
     "height": 35
    },
    "colab_type": "code",
    "id": "tCMTrQxUAeJn",
    "outputId": "18fd02fd-0eb9-457e-991c-6022122c1ee3"
   },
   "outputs": [
    {
     "name": "stdout",
     "output_type": "stream",
     "text": [
      "Hello World\n"
     ]
    }
   ],
   "source": [
    "# This prints Hello World\n",
    "print(\"Hello World\")"
   ]
  },
  {
   "cell_type": "markdown",
   "metadata": {
    "colab_type": "text",
    "id": "yzTmHmCvu4BN"
   },
   "source": [
    "### 2. Variables\n",
    "- Declaration\n",
    "- Type"
   ]
  },
  {
   "cell_type": "code",
   "execution_count": 0,
   "metadata": {
    "colab": {
     "base_uri": "https://localhost:8080/",
     "height": 35
    },
    "colab_type": "code",
    "id": "YfsURQ1dAi1E",
    "outputId": "6e27c330-57e9-4d82-e023-1e732794fb81"
   },
   "outputs": [
    {
     "name": "stdout",
     "output_type": "stream",
     "text": [
      "-1\n"
     ]
    }
   ],
   "source": [
    "# Variables\n",
    "a = 4\n",
    "b = -5\n",
    "print(a + b)"
   ]
  },
  {
   "cell_type": "code",
   "execution_count": 0,
   "metadata": {
    "colab": {
     "base_uri": "https://localhost:8080/",
     "height": 183
    },
    "colab_type": "code",
    "id": "C2LGIQcFC27Z",
    "outputId": "590f3535-983b-4363-b656-82ac32005b27"
   },
   "outputs": [
    {
     "ename": "TypeError",
     "evalue": "ignored",
     "output_type": "error",
     "traceback": [
      "\u001b[0;31m---------------------------------------------------------------------------\u001b[0m",
      "\u001b[0;31mTypeError\u001b[0m                                 Traceback (most recent call last)",
      "\u001b[0;32m<ipython-input-6-df3cda8e81e4>\u001b[0m in \u001b[0;36m<module>\u001b[0;34m()\u001b[0m\n\u001b[1;32m      1\u001b[0m \u001b[0ma2\u001b[0m \u001b[0;34m=\u001b[0m \u001b[0;34m\"4\"\u001b[0m\u001b[0;34m\u001b[0m\u001b[0;34m\u001b[0m\u001b[0m\n\u001b[0;32m----> 2\u001b[0;31m \u001b[0mprint\u001b[0m\u001b[0;34m(\u001b[0m\u001b[0ma2\u001b[0m \u001b[0;34m+\u001b[0m \u001b[0mb\u001b[0m\u001b[0;34m)\u001b[0m\u001b[0;34m\u001b[0m\u001b[0;34m\u001b[0m\u001b[0m\n\u001b[0m",
      "\u001b[0;31mTypeError\u001b[0m: must be str, not int"
     ]
    }
   ],
   "source": [
    "# Type is important in python\n",
    "a2 = \"4\"\n",
    "print(a2 + b)"
   ]
  },
  {
   "cell_type": "code",
   "execution_count": 0,
   "metadata": {
    "colab": {
     "base_uri": "https://localhost:8080/",
     "height": 52
    },
    "colab_type": "code",
    "id": "Sgw-YIE8DLJY",
    "outputId": "f84cafae-6a83-4288-f715-8ac7364e9eeb"
   },
   "outputs": [
    {
     "name": "stdout",
     "output_type": "stream",
     "text": [
      "<class 'int'>\n",
      "<class 'str'>\n"
     ]
    }
   ],
   "source": [
    "# Show the type of a variable\n",
    "print(type(a))\n",
    "print(type(a2))"
   ]
  },
  {
   "cell_type": "code",
   "execution_count": 0,
   "metadata": {
    "colab": {
     "base_uri": "https://localhost:8080/",
     "height": 52
    },
    "colab_type": "code",
    "id": "yb2K09jcDfQr",
    "outputId": "7c346705-0cce-4de2-c15d-4b861b3d1fe5"
   },
   "outputs": [
    {
     "name": "stdout",
     "output_type": "stream",
     "text": [
      "<class 'float'>\n",
      "<class 'bool'>\n"
     ]
    }
   ],
   "source": [
    "c = 1.5\n",
    "d = True\n",
    "print(type(c))\n",
    "print(type(d))"
   ]
  },
  {
   "cell_type": "code",
   "execution_count": 0,
   "metadata": {
    "colab": {
     "base_uri": "https://localhost:8080/",
     "height": 35
    },
    "colab_type": "code",
    "id": "gcqBEYZbDs7Y",
    "outputId": "36568d21-28dd-4252-dd56-25a7767464ab"
   },
   "outputs": [
    {
     "data": {
      "text/plain": [
       "float"
      ]
     },
     "execution_count": 12,
     "metadata": {
      "tags": []
     },
     "output_type": "execute_result"
    }
   ],
   "source": [
    "type(float(a))"
   ]
  },
  {
   "cell_type": "markdown",
   "metadata": {
    "colab_type": "text",
    "id": "26GGonIJvZTZ"
   },
   "source": [
    "### 3. Arithmetics"
   ]
  },
  {
   "cell_type": "code",
   "execution_count": 0,
   "metadata": {
    "colab": {
     "base_uri": "https://localhost:8080/",
     "height": 104
    },
    "colab_type": "code",
    "id": "GvHIWSggD5A-",
    "outputId": "68a9185d-19b2-4f32-9d3a-7f4d1e4e3ec3"
   },
   "outputs": [
    {
     "name": "stdout",
     "output_type": "stream",
     "text": [
      "1.3333333333333333\n",
      "1\n",
      "2\n",
      "9\n",
      "1.7320508075688772\n"
     ]
    }
   ],
   "source": [
    "# Arithmetics\n",
    "# +, -, *, /\n",
    "# Integer division\n",
    "print(4 / 3) # gives a floating point number\n",
    "print(4 // 3) # double division always give an integer\n",
    "# Get remainder\n",
    "print(5 % 3) # give the remainder of integer division\n",
    "# Power\n",
    "print(3 ** 2) # represents 3 to the power of 2 = 9\n",
    "print(3 ** (1/2)) # square root of 3"
   ]
  },
  {
   "cell_type": "markdown",
   "metadata": {
    "colab_type": "text",
    "id": "cao_PEgTFdAN"
   },
   "source": [
    "Exercise: quandratic formula:\n",
    "\n",
    "$x = \\frac{-b \\pm \\sqrt{b^2 - 4ac}}{2a}$"
   ]
  },
  {
   "cell_type": "code",
   "execution_count": 0,
   "metadata": {
    "colab": {
     "base_uri": "https://localhost:8080/",
     "height": 35
    },
    "colab_type": "code",
    "id": "GMNNPsPuFuIz",
    "outputId": "29534bc1-abb6-4054-a2aa-9d9ac027d120"
   },
   "outputs": [
    {
     "name": "stdout",
     "output_type": "stream",
     "text": [
      "(-0.9999999999999999+1.4142135623730951j) (-1-1.4142135623730951j)\n"
     ]
    }
   ],
   "source": [
    "a = 1\n",
    "b = 2\n",
    "c = 3\n",
    "x1 = (-b + (b ** 2 - 4 * a * c) ** 0.5) / (2 * a)\n",
    "x2 = (-b - (b ** 2 - 4 * a * c) ** 0.5) / (2 * a)\n",
    "print(x1, x2)"
   ]
  },
  {
   "cell_type": "markdown",
   "metadata": {
    "colab_type": "text",
    "id": "_N9VYHSPu7QG"
   },
   "source": [
    "### 4. Assignment Operators"
   ]
  },
  {
   "cell_type": "code",
   "execution_count": 0,
   "metadata": {
    "colab": {
     "base_uri": "https://localhost:8080/",
     "height": 51
    },
    "colab_type": "code",
    "id": "Nul9PyctFUVu",
    "outputId": "655f4672-b72b-44d4-ced8-7107f4beaacc"
   },
   "outputs": [
    {
     "name": "stdout",
     "output_type": "stream",
     "text": [
      "2\n",
      "-3 30 2.0\n"
     ]
    }
   ],
   "source": [
    "a = 1\n",
    "a += 1 # a = a + 1\n",
    "print(a)\n",
    "b, c, d = 2, 3, 4\n",
    "b -= 5\n",
    "c *= 10\n",
    "d /= 2\n",
    "print(b, c, d)"
   ]
  },
  {
   "cell_type": "markdown",
   "metadata": {
    "colab_type": "text",
    "id": "A15kndiOu7Zn"
   },
   "source": [
    "### 5. Logical Operators"
   ]
  },
  {
   "cell_type": "code",
   "execution_count": 0,
   "metadata": {
    "colab": {
     "base_uri": "https://localhost:8080/",
     "height": 34
    },
    "colab_type": "code",
    "id": "KDAort5xF2QV",
    "outputId": "83f7cd41-7eae-4ad2-b858-a9846dd44b86"
   },
   "outputs": [
    {
     "name": "stdout",
     "output_type": "stream",
     "text": [
      "True False\n"
     ]
    }
   ],
   "source": [
    "t, f = True, False\n",
    "print(t, f)"
   ]
  },
  {
   "cell_type": "code",
   "execution_count": 0,
   "metadata": {
    "colab": {
     "base_uri": "https://localhost:8080/",
     "height": 85
    },
    "colab_type": "code",
    "id": "m8kCogzcGAtJ",
    "outputId": "4a3da2d1-96ca-4772-ce13-a2d3f3277831"
   },
   "outputs": [
    {
     "name": "stdout",
     "output_type": "stream",
     "text": [
      "True\n",
      "False\n",
      "False\n",
      "True\n"
     ]
    }
   ],
   "source": [
    "print(True or False) # \"or\" means or\n",
    "print(True and False) # \"and\" means and\n",
    "print(not True)\n",
    "print(not False)"
   ]
  },
  {
   "cell_type": "code",
   "execution_count": 0,
   "metadata": {
    "colab": {
     "base_uri": "https://localhost:8080/",
     "height": 34
    },
    "colab_type": "code",
    "id": "VHlukoO9GYKV",
    "outputId": "0669360f-ac97-4a94-815c-7a935d9091e7"
   },
   "outputs": [
    {
     "name": "stdout",
     "output_type": "stream",
     "text": [
      "2 -3 False\n"
     ]
    }
   ],
   "source": [
    "# Comparisons: >, <, ==, !=, >=, <=\n",
    "exp1 = (a > 5) and (b < 3)\n",
    "print(a, b, exp1)"
   ]
  },
  {
   "cell_type": "markdown",
   "metadata": {
    "colab_type": "text",
    "id": "VPBH7dZuu7hz"
   },
   "source": [
    "### 6. Strings"
   ]
  },
  {
   "cell_type": "code",
   "execution_count": 0,
   "metadata": {
    "colab": {
     "base_uri": "https://localhost:8080/",
     "height": 136
    },
    "colab_type": "code",
    "id": "i68OFRA7GxWy",
    "outputId": "593a88c1-e300-4c15-885c-6dfdd8ef867d"
   },
   "outputs": [
    {
     "name": "stdout",
     "output_type": "stream",
     "text": [
      "<class 'str'>\n",
      "HelloWorld3\n",
      "My \n",
      " Name \n",
      " Is \t Liang.\n",
      "I said \"Good Morning\"\n",
      "I said \"Good Morning\"\n"
     ]
    }
   ],
   "source": [
    "str1 = \"Hello\"\n",
    "str2 = 'World'\n",
    "str3 = '3'\n",
    "print(type(str3))\n",
    "print(str1 + str2 + str3) # Use \"+\" to concatenate strings\n",
    "print(\"My \\n Name \\n Is \\t Liang.\")\n",
    "print('I said \"Good Morning\"') # If the string contains \"\", then use '' to define the string\n",
    "print(\"I said \\\"Good Morning\\\"\")"
   ]
  },
  {
   "cell_type": "code",
   "execution_count": 0,
   "metadata": {
    "colab": {
     "base_uri": "https://localhost:8080/",
     "height": 68
    },
    "colab_type": "code",
    "id": "_Gnmou2bH1ac",
    "outputId": "3d8e4919-dd02-48e8-9689-41e445cf99bb"
   },
   "outputs": [
    {
     "name": "stdout",
     "output_type": "stream",
     "text": [
      "False\n",
      "Liang Zhao\n",
      "True\n"
     ]
    }
   ],
   "source": [
    "# Remove extra space at the beginning and the end of a string\n",
    "data_value = \"     Liang Zhao     \"\n",
    "my_name = \"Liang Zhao\"\n",
    "print(data_value == my_name)\n",
    "print(data_value.strip())\n",
    "print(data_value.strip() == my_name)"
   ]
  },
  {
   "cell_type": "code",
   "execution_count": 0,
   "metadata": {
    "colab": {
     "base_uri": "https://localhost:8080/",
     "height": 34
    },
    "colab_type": "code",
    "id": "ScTAukHDIbXE",
    "outputId": "fcf7afa3-540d-4c66-f152-82bc56a38a90"
   },
   "outputs": [
    {
     "data": {
      "text/plain": [
       "['Alex', 'Bob', 'Clare', 'David']"
      ]
     },
     "execution_count": 23,
     "metadata": {
      "tags": []
     },
     "output_type": "execute_result"
    }
   ],
   "source": [
    "# Split a string\n",
    "file_names = \"Alex, Bob, Clare, David\"\n",
    "file_names.split(\", \")"
   ]
  },
  {
   "cell_type": "code",
   "execution_count": 0,
   "metadata": {
    "colab": {
     "base_uri": "https://localhost:8080/",
     "height": 85
    },
    "colab_type": "code",
    "id": "qoU3Y1bhI-Bv",
    "outputId": "ae4b0d0b-cc9b-4638-ffbc-599ca9739c7c"
   },
   "outputs": [
    {
     "name": "stdout",
     "output_type": "stream",
     "text": [
      "45.67898765\n",
      "45.68\n",
      "Name:       Alex | Score:    89 | Value: 12.35\n",
      "Name:        Bob | Score:     9 | Value: 543.21\n"
     ]
    }
   ],
   "source": [
    "# String formatting\n",
    "float_num = 45.67898765\n",
    "print(float_num)\n",
    "print(\"%5.2f\" % (float_num))\n",
    "formatted_string = \"Name: %10s | Score: %5d | Value: %.2f\" % (\"Alex\", 89, 12.345)\n",
    "print(formatted_string)\n",
    "formatted_string = \"Name: %10s | Score: %5d | Value: %.2f\" % (\"Bob\", 9, 543.21)\n",
    "print(formatted_string)"
   ]
  },
  {
   "cell_type": "markdown",
   "metadata": {
    "colab_type": "text",
    "id": "KSE9jRDPu7pM"
   },
   "source": [
    "### 7. Basic Data Structures\n",
    "- List\n",
    "- Set\n",
    "- Tuple\n",
    "- Dictionary"
   ]
  },
  {
   "cell_type": "code",
   "execution_count": 0,
   "metadata": {
    "colab": {
     "base_uri": "https://localhost:8080/",
     "height": 85
    },
    "colab_type": "code",
    "id": "ABsE-J47KuLg",
    "outputId": "e24e3706-7dff-4ac2-dbd7-b8465c917749"
   },
   "outputs": [
    {
     "name": "stdout",
     "output_type": "stream",
     "text": [
      "[1, 2, 3, 4, 6.5, 'Monday', True]\n",
      "[1, 2, 3, 4, 6.5, 'Monday', True, 12]\n",
      "12\n",
      "[1, 2, 3, 4, 6.5, 'Monday', True]\n"
     ]
    }
   ],
   "source": [
    "# List\n",
    "list1 = [1, 2, 3, 4, 6.5, \"Monday\", True]\n",
    "print(list1)\n",
    "list1.append(12)\n",
    "print(list1)\n",
    "val = list1.pop()\n",
    "print(val)\n",
    "print(list1)"
   ]
  },
  {
   "cell_type": "code",
   "execution_count": 0,
   "metadata": {
    "colab": {
     "base_uri": "https://localhost:8080/",
     "height": 153
    },
    "colab_type": "code",
    "id": "MFjPSyvmLfuK",
    "outputId": "ca249f0a-318a-4140-e867-728c61d84c1b"
   },
   "outputs": [
    {
     "name": "stdout",
     "output_type": "stream",
     "text": [
      "1\n",
      "2\n",
      "True\n",
      "Monday\n",
      "[3, 4, 6.5]\n",
      "[1, 2, 3, 4, 6.5]\n",
      "[3, 4, 6.5, 'Monday', True]\n",
      "[1, 2, 3, 4, 6.5, 'Monday', True]\n"
     ]
    }
   ],
   "source": [
    "# Indexing\n",
    "print(list1[0])\n",
    "print(list1[1])\n",
    "print(list1[-1])\n",
    "print(list1[-2])\n",
    "print(list1[2:5]) # the second index is exclusive\n",
    "print(list1[:5]) # omitting the first index means starting from 0\n",
    "print(list1[2:]) # omitting the second index means going to the end\n",
    "print(list1[:]) "
   ]
  },
  {
   "cell_type": "code",
   "execution_count": 0,
   "metadata": {
    "colab": {
     "base_uri": "https://localhost:8080/",
     "height": 34
    },
    "colab_type": "code",
    "id": "NDHetq2hM7HX",
    "outputId": "809826bd-74a3-4e99-e0ff-067f36ab44c7"
   },
   "outputs": [
    {
     "data": {
      "text/plain": [
       "7"
      ]
     },
     "execution_count": 47,
     "metadata": {
      "tags": []
     },
     "output_type": "execute_result"
    }
   ],
   "source": [
    "len(list1)"
   ]
  },
  {
   "cell_type": "code",
   "execution_count": 0,
   "metadata": {
    "colab": {
     "base_uri": "https://localhost:8080/",
     "height": 34
    },
    "colab_type": "code",
    "id": "X1zlhD-kM-iM",
    "outputId": "c610a086-3d55-4c05-e59f-7c3239830c74"
   },
   "outputs": [
    {
     "name": "stdout",
     "output_type": "stream",
     "text": [
      "{1, 2, 3}\n"
     ]
    }
   ],
   "source": [
    "# Set\n",
    "set1 = {1, 2, 3, 3, 2, 1}\n",
    "print(set1)"
   ]
  },
  {
   "cell_type": "code",
   "execution_count": 0,
   "metadata": {
    "colab": {
     "base_uri": "https://localhost:8080/",
     "height": 34
    },
    "colab_type": "code",
    "id": "pBMpWDYlNO6H",
    "outputId": "b670040d-5998-4dd3-acfe-4c65b582d639"
   },
   "outputs": [
    {
     "name": "stdout",
     "output_type": "stream",
     "text": [
      "False\n"
     ]
    }
   ],
   "source": [
    "# Tuple\n",
    "tuple1 = (1, 2, 3)\n",
    "tuple2 = (2, 3, 1)\n",
    "print(tuple1 == tuple2)"
   ]
  },
  {
   "cell_type": "code",
   "execution_count": 0,
   "metadata": {
    "colab": {
     "base_uri": "https://localhost:8080/",
     "height": 85
    },
    "colab_type": "code",
    "id": "8lRPCt9KNftU",
    "outputId": "f137f029-cbee-497f-bf0e-2f3909b59370"
   },
   "outputs": [
    {
     "name": "stdout",
     "output_type": "stream",
     "text": [
      "A\n",
      "C\n",
      "A\n",
      "C\n"
     ]
    }
   ],
   "source": [
    "# Dictionary: (key, value)\n",
    "dict1 = {\"Alex\": \"A\",\n",
    "         \"Bob\": \"B\", \n",
    "         \"Clare\": \"C\"}\n",
    "print(dict1['Alex'])\n",
    "print(dict1['Clare'])"
   ]
  },
  {
   "cell_type": "markdown",
   "metadata": {
    "colab_type": "text",
    "id": "bVgPhOdnu7wg"
   },
   "source": [
    "### 8. Loops and Branches\n"
   ]
  },
  {
   "cell_type": "code",
   "execution_count": 0,
   "metadata": {
    "colab": {
     "base_uri": "https://localhost:8080/",
     "height": 51
    },
    "colab_type": "code",
    "id": "sYd1zvs0OnCa",
    "outputId": "81d3d536-b8ee-4d81-80de-f9b7c3ca129a"
   },
   "outputs": [
    {
     "name": "stdout",
     "output_type": "stream",
     "text": [
      "A\n",
      "C\n"
     ]
    }
   ],
   "source": [
    "names = ['Alex', 'Clare']\n",
    "for name in names: # for (variable) in (list of values):\n",
    "    print(dict1[name]) # Use indentation (4 spaces) to indicate the loop body"
   ]
  },
  {
   "cell_type": "code",
   "execution_count": 0,
   "metadata": {
    "colab": {
     "base_uri": "https://localhost:8080/",
     "height": 34
    },
    "colab_type": "code",
    "id": "82ApyVg9OqG6",
    "outputId": "f1a6640b-65c7-4cbb-d44b-a671ae649f3e"
   },
   "outputs": [
    {
     "name": "stdout",
     "output_type": "stream",
     "text": [
      "Greater than zero.\n"
     ]
    }
   ],
   "source": [
    "a = 2\n",
    "if a > 0:\n",
    "    print(\"Greater than zero.\")\n",
    "else: \n",
    "    print(\"Not greater than zero.\")"
   ]
  },
  {
   "cell_type": "code",
   "execution_count": 0,
   "metadata": {
    "colab": {
     "base_uri": "https://localhost:8080/",
     "height": 34
    },
    "colab_type": "code",
    "id": "U4cQB9oIO52f",
    "outputId": "0898d26b-fc0a-49d0-b692-c6492bb38bf7"
   },
   "outputs": [
    {
     "name": "stdout",
     "output_type": "stream",
     "text": [
      "a not less than zero, and b greater than zero\n"
     ]
    }
   ],
   "source": [
    "a = 2\n",
    "b = 4\n",
    "if a < 0:\n",
    "    print(\"a less than zero\")\n",
    "elif b > 0: # \"elif\" means \"else if\"\n",
    "    print(\"a not less than zero, and b greater than zero\")\n",
    "else:\n",
    "    print(\"neither is greater than zero\")"
   ]
  },
  {
   "cell_type": "markdown",
   "metadata": {
    "colab_type": "text",
    "id": "8fWcw5WMu75g"
   },
   "source": [
    "### 9. List Comprehensions"
   ]
  },
  {
   "cell_type": "code",
   "execution_count": 0,
   "metadata": {
    "colab": {
     "base_uri": "https://localhost:8080/",
     "height": 68
    },
    "colab_type": "code",
    "id": "Ug_cd-5yPao5",
    "outputId": "a8b7d336-a513-434f-cf26-d5fab0cfae74"
   },
   "outputs": [
    {
     "name": "stdout",
     "output_type": "stream",
     "text": [
      "[10, 20, 30, 40, 50]\n",
      "[10, 20, 30, 40, 50]\n",
      "[1, 0, 0]\n"
     ]
    }
   ],
   "source": [
    "list1 = [1, 2, 3, 4, 5]\n",
    "# create a list whose values are 10 * values from list1:\n",
    "# Solution 1:\n",
    "list2 = []\n",
    "for elt in list1:\n",
    "    list2.append(10 * elt)\n",
    "print(list2)\n",
    "# Solution 2:\n",
    "list2 = [ (10 * x) for x in list1   ]\n",
    "print(list2)\n",
    "\n",
    "#Example: For each element in list1: change it to 0 if it is negative, remove it if it is greater than 10\n",
    "list1 = [1, -5, 20, 12, 0]\n",
    "# Solution 1:\n",
    "list2 = []\n",
    "for x in list1:\n",
    "    if x < 0:\n",
    "        list2.append(0)\n",
    "    elif x > 10:\n",
    "        continue\n",
    "    else:\n",
    "        list2.append(x)\n",
    "print(list2)"
   ]
  },
  {
   "cell_type": "markdown",
   "metadata": {
    "colab_type": "text",
    "id": "d4rrACaLu8DX"
   },
   "source": [
    "### 10. Functions and Classes"
   ]
  },
  {
   "cell_type": "code",
   "execution_count": 0,
   "metadata": {
    "colab": {},
    "colab_type": "code",
    "id": "gkBO1AkESMO2"
   },
   "outputs": [],
   "source": [
    "def sum_of_list(list1):\n",
    "    sum = 0\n",
    "    for x in list1:\n",
    "        sum += x\n",
    "    return sum"
   ]
  },
  {
   "cell_type": "code",
   "execution_count": 0,
   "metadata": {
    "colab": {
     "base_uri": "https://localhost:8080/",
     "height": 34
    },
    "colab_type": "code",
    "id": "oO9qcwz9SeTX",
    "outputId": "0ead80a9-c6af-449b-cdf1-dfab2da5c0ed"
   },
   "outputs": [
    {
     "data": {
      "text/plain": [
       "28"
      ]
     },
     "execution_count": 69,
     "metadata": {
      "tags": []
     },
     "output_type": "execute_result"
    }
   ],
   "source": [
    "sum_of_list(list1)"
   ]
  },
  {
   "cell_type": "code",
   "execution_count": 0,
   "metadata": {
    "colab": {},
    "colab_type": "code",
    "id": "F6ExJvmbv5nN"
   },
   "outputs": [],
   "source": [
    "def sum_and_product(list1):\n",
    "    sum = 0\n",
    "    product = 1\n",
    "    for x in list1:\n",
    "        sum += x\n",
    "        product *= x\n",
    "    return sum, product"
   ]
  },
  {
   "cell_type": "code",
   "execution_count": 0,
   "metadata": {
    "colab": {
     "base_uri": "https://localhost:8080/",
     "height": 34
    },
    "colab_type": "code",
    "id": "FtKnOuJjSt04",
    "outputId": "069a6f44-c5c0-42f0-93b4-a8925d916a16"
   },
   "outputs": [
    {
     "name": "stdout",
     "output_type": "stream",
     "text": [
      "28 0\n"
     ]
    }
   ],
   "source": [
    "list1_sum, list1_product = sum_and_product(list1)\n",
    "print(list1_sum, list1_product)"
   ]
  },
  {
   "cell_type": "code",
   "execution_count": 0,
   "metadata": {
    "colab": {},
    "colab_type": "code",
    "id": "qENq27qvS3Mm"
   },
   "outputs": [],
   "source": [
    "def implicit_list_mod(list1):\n",
    "    list1[0] = 100"
   ]
  },
  {
   "cell_type": "code",
   "execution_count": 0,
   "metadata": {
    "colab": {
     "base_uri": "https://localhost:8080/",
     "height": 34
    },
    "colab_type": "code",
    "id": "qS2e2oZTTCg-",
    "outputId": "b4d12368-cd11-4588-8c81-f334f6f7a924"
   },
   "outputs": [
    {
     "name": "stdout",
     "output_type": "stream",
     "text": [
      "[100, -5, 20, 12, 0]\n"
     ]
    }
   ],
   "source": [
    "implicit_list_mod(list1) # lists are passed in by reference\n",
    "print(list1)"
   ]
  },
  {
   "cell_type": "code",
   "execution_count": 0,
   "metadata": {
    "colab": {},
    "colab_type": "code",
    "id": "Gc-u3xc2TWS3"
   },
   "outputs": [],
   "source": [
    "def addition(x, y=1):\n",
    "    return x + y"
   ]
  },
  {
   "cell_type": "code",
   "execution_count": 0,
   "metadata": {
    "colab": {
     "base_uri": "https://localhost:8080/",
     "height": 68
    },
    "colab_type": "code",
    "id": "O8158hRRThMR",
    "outputId": "8c4ea85c-5101-4378-fe02-1bf3b0d99ca3"
   },
   "outputs": [
    {
     "name": "stdout",
     "output_type": "stream",
     "text": [
      "11\n",
      "11\n",
      "123456\n"
     ]
    }
   ],
   "source": [
    "print(addition(5, 6))\n",
    "print(addition(10))\n",
    "print(addition(\"123\", \"456\"))"
   ]
  },
  {
   "cell_type": "code",
   "execution_count": 0,
   "metadata": {
    "colab": {},
    "colab_type": "code",
    "id": "5i1jiblnUJwD"
   },
   "outputs": [],
   "source": [
    "class Student:\n",
    "\n",
    "    def __init__(self, name, age):\n",
    "        self.name = name\n",
    "        self.age = age\n",
    "\n",
    "    def print(self):\n",
    "        print(self.name, \" \", self.age)"
   ]
  },
  {
   "cell_type": "code",
   "execution_count": 0,
   "metadata": {
    "colab": {
     "base_uri": "https://localhost:8080/",
     "height": 34
    },
    "colab_type": "code",
    "id": "eypetCdTUo05",
    "outputId": "528ad180-fed3-449e-ce3d-4e10b9e65f3f"
   },
   "outputs": [
    {
     "name": "stdout",
     "output_type": "stream",
     "text": [
      "Alex   15\n"
     ]
    }
   ],
   "source": [
    "student1 = Student(\"Alex\", 15)\n",
    "student1.print()"
   ]
  },
  {
   "cell_type": "markdown",
   "metadata": {
    "colab_type": "text",
    "id": "NPOeK0KQVoJs"
   },
   "source": [
    "## Example: Heights for Men in the US"
   ]
  },
  {
   "cell_type": "code",
   "execution_count": 0,
   "metadata": {
    "colab": {
     "base_uri": "https://localhost:8080/",
     "height": 34
    },
    "colab_type": "code",
    "id": "VOQmbG9kVsaV",
    "outputId": "4964964c-0c34-4b27-97b8-6a262994ffac"
   },
   "outputs": [
    {
     "name": "stdout",
     "output_type": "stream",
     "text": [
      "9 9\n"
     ]
    }
   ],
   "source": [
    "# 1. create two python lists containing average heights from 1900 to 1980\n",
    "list_year = [1900, 1910, 1920, 1930, 1940, 1950, 1960, 1970, 1980]\n",
    "list_height = [170, 172.1, 173.1, 173.4, 176.1, 177.1, 177.3, 178.3, 179]\n",
    "print(len(list_year), len(list_height))"
   ]
  },
  {
   "cell_type": "code",
   "execution_count": 0,
   "metadata": {
    "colab": {
     "base_uri": "https://localhost:8080/",
     "height": 282
    },
    "colab_type": "code",
    "id": "kk_094wYWK9F",
    "outputId": "15ce0c00-cf48-4834-cb75-6ed297e44e62"
   },
   "outputs": [
    {
     "data": {
      "text/plain": [
       "[<matplotlib.lines.Line2D at 0x7f5c1aa91438>]"
      ]
     },
     "execution_count": 85,
     "metadata": {
      "tags": []
     },
     "output_type": "execute_result"
    },
    {
     "data": {
      "image/png": "[encoded data removed]",
      "text/plain": [
       "<Figure size 432x288 with 1 Axes>"
      ]
     },
     "metadata": {
      "tags": []
     },
     "output_type": "display_data"
    }
   ],
   "source": [
    "# 2. Plot a gragh\n",
    "import matplotlib.pyplot as plt # import libraries\n",
    "plt.plot(list_year, list_height)"
   ]
  },
  {
   "cell_type": "code",
   "execution_count": 0,
   "metadata": {
    "colab": {
     "base_uri": "https://localhost:8080/",
     "height": 68
    },
    "colab_type": "code",
    "id": "6WYwWfIwWwPu",
    "outputId": "f3b11fd9-4207-4511-870b-f1c39e5e4a39"
   },
   "outputs": [
    {
     "name": "stdout",
     "output_type": "stream",
     "text": [
      "0.20999999999999944\n",
      "0.012352941176470554\n",
      "0.012352941176470554\n"
     ]
    }
   ],
   "source": [
    "# Create a list that contains rate of change in list1\n",
    "# how much is increased from 1900 to 1910?\n",
    "rate = (172.1 - 170) / (1910 - 1900) # how many centimeters are increased per year?\n",
    "rate2 = (172.1 - 170) / 170 # the percentage of increase\n",
    "rate3 = (list_height[1] - list_height[0]) / list_height[0]\n",
    "print(rate)\n",
    "print(rate2)\n",
    "print(rate3)"
   ]
  },
  {
   "cell_type": "code",
   "execution_count": 0,
   "metadata": {
    "colab": {
     "base_uri": "https://localhost:8080/",
     "height": 34
    },
    "colab_type": "code",
    "id": "R_LanLeQX7EH",
    "outputId": "bf021874-eb94-4ff1-a777-f33b7aeec8da"
   },
   "outputs": [
    {
     "name": "stdout",
     "output_type": "stream",
     "text": [
      "0.005810575246949448\n"
     ]
    }
   ],
   "source": [
    "rate_1910_1920 = (list_height[2] - list_height[1]) / list_height[1]\n",
    "print(rate_1910_1920)"
   ]
  },
  {
   "cell_type": "code",
   "execution_count": 0,
   "metadata": {
    "colab": {
     "base_uri": "https://localhost:8080/",
     "height": 54
    },
    "colab_type": "code",
    "id": "_giCdxEVYoRO",
    "outputId": "932dcb24-43b4-44ec-d44b-727ee0a780b1"
   },
   "outputs": [
    {
     "name": "stdout",
     "output_type": "stream",
     "text": [
      "[0.012352941176470554, 0.005810575246949448, 0.0017331022530329948, 0.015570934256055297, 0.0056785917092561046, 0.0011293054771316605, 0.0056401579244218835, 0.00392596747055518]\n"
     ]
    }
   ],
   "source": [
    "list_rates = []\n",
    "for k in [0, 1, 2, 3, 4, 5, 6, 7]:\n",
    "    # for the k-th decade:\n",
    "    rate_kth_decade = (list_height[k+1] - list_height[k]) / list_height[k]\n",
    "    list_rates.append(rate_kth_decade)\n",
    "print(list_rates)"
   ]
  }
 ],
 "metadata": {
  "colab": {
   "collapsed_sections": [],
   "name": "PythonIntro",
   "provenance": []
  },
  "kernelspec": {
   "display_name": "Python 3",
   "language": "python",
   "name": "python3"
  },
  "language_info": {
   "codemirror_mode": {
    "name": "ipython",
    "version": 3
   },
   "file_extension": ".py",
   "mimetype": "text/x-python",
   "name": "python",
   "nbconvert_exporter": "python",
   "pygments_lexer": "ipython3",
   "version": "3.7.3"
  }
 },
 "nbformat": 4,
 "nbformat_minor": 1
}
